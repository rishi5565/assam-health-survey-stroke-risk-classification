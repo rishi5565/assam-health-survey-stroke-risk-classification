{
 "cells": [
  {
   "cell_type": "markdown",
   "metadata": {},
   "source": [
    "#### **Project Overview**\n",
    "\n",
    "* Built a classifier model and detected residents from 23 districts of Assam who might be at a higher risk of stroke.\n",
    "* Downloaded over 140,000+ observations of Assam Health Survey Data with 53 unique features from https://data.gov.in/ to perform classification on.\n",
    "* Cleaned, explored and manipulated the entire dataset extensively on Python to make it usable for our model.\n",
    "* Engineered new features and performed deep exploration and statistical tests on the data.\n",
    "* Used 2 different datasets from separate sources to train the stroke risk classifier model.\n",
    "* Applied Synthetic Minority Over-sampling Technique (SMOTE) and various other methods to overcome extreme imbalance ( 1.8% Minority Proportion ) in the stroke risk dataset before modelling the classifier.\n",
    "* Built a model that was able to detect the minority class with 75% accuracy.\n"
   ]
  },
  {
   "cell_type": "markdown",
   "metadata": {},
   "source": [
    "#### **Potential Uses**\n",
    "\n",
    "* People classified under risk category can be reached out to spread awareness, provide diagnostic tools, medical help, etc. to help them take care of their health.\n",
    "* The information can be used by insurance companies, health diagnostic companies, pharma companies, hospitals, etc. to directly reach out and find potential clients who might buy their products and services in the future.\n"
   ]
  },
  {
   "cell_type": "markdown",
   "metadata": {},
   "source": [
    "#### **Project Description**\n",
    "\n",
    "A stroke is a serious life-threatening medical condition that happens when the blood supply to part of the brain is cut off. Strokes are a medical emergency and urgent treatment is essential. But if a person is made aware of the risk and starts taking precautions and makes lifestyle changes, strokes can be prevented significantly.\n",
    "\n",
    "According to CDC, USA ([Source](https://www.cdc.gov/stroke/facts.htm#:~:text=Every%20year%2C%20more%20than%20795%2C000,are%20first%20or%20new%20strokes.&text=About%20185%2C000%20strokes%E2%80%94nearly%201,have%20had%20a%20previous%20stroke.&text=About%2087%25%20of%20all%20strokes,to%20the%20brain%20is%20blocked.)),\n",
    "\n",
    "> Every year, more than 795,000 people in the United States have a stroke. About 610,000 of these are first or new strokes. About 185,000 strokes—nearly 1 of 4—are in people who have had a previous stroke.\n",
    "\n",
    "In this project we will be building a classifier model to detect residents from 23 districts of Assam who might be at a higher risk of stroke.\n",
    "\n",
    "This can be very beneficial for the residents as they can be more self-aware and start taking preventative measures and make lifestyle changes.\n",
    "\n",
    "On the other hand, this can also work as a very crucial piece of information for insurance companies, health diagnostic companies, pharma companies, hospitals, etc. to directly reach out to and maybe find potential clients.\n",
    "\n",
    "We will be using multiple datasets of each individual districts downloaded from https://data.gov.in and concatenating them together into one dataset for our use case. We will also be using 2 separate datasets, heart disease risk data and stroke risk data from separate sources to build our Stroke Risk Classifier model.\n",
    "\n",
    "It would also be interesting to explore other features of the Assam Health Survey dataset for both the stroke risk and non-risk groups and see if there are any differences or points of interest among them.\n"
   ]
  },
  {
   "cell_type": "code",
   "execution_count": 82,
   "metadata": {},
   "outputs": [],
   "source": [
    "# we import some initial necessary libraries\n",
    "import pandas as pd\n",
    "import numpy as np\n",
    "import matplotlib.pyplot as plt\n",
    "import seaborn as sns\n",
    "import warnings\n",
    "warnings.filterwarnings('ignore')"
   ]
  },
  {
   "cell_type": "code",
   "execution_count": 83,
   "metadata": {},
   "outputs": [],
   "source": [
    "# set the figure size for visualizations\n",
    "sns.set(rc={'figure.figsize':(10,8)})"
   ]
  },
  {
   "cell_type": "code",
   "execution_count": 84,
   "metadata": {},
   "outputs": [],
   "source": [
    "# imported our functions\n",
    "import sys\n",
    "sys.path.append(\"Functions/\")\n",
    "import functions as func"
   ]
  },
  {
   "cell_type": "markdown",
   "metadata": {},
   "source": [
    "We will be using 3 datasets for our use case, namely, Heart Risk Dataset, Stroke Risk Dataset and Assam Health Survey Dataset."
   ]
  },
  {
   "cell_type": "markdown",
   "metadata": {},
   "source": [
    "#### **Heart Risk Dataset**\n",
    "\n",
    "The dataset for heart risk classification is created by combining different datasets already available independently but not combined before. In this dataset, 5 heart datasets are combined over 11 common features. The five datasets used for its curation are:\n",
    "\n",
    "* Cleveland: 303 observations\n",
    "* Hungarian: 294 observations\n",
    "* Switzerland: 123 observations\n",
    "* Long Beach VA: 200 observations\n",
    "* Stalog (Heart) Data Set: 270 observations\n",
    "\n",
    "Total: 1190 observations,\n",
    "Duplicated: 272 observations,\n",
    "Final dataset: 918 observations\n",
    "\n",
    "Every dataset used can be found under the Index of heart disease datasets from UCI Machine Learning Repository on the following link:\n",
    "\n",
    "[Link](https://archive.ics.uci.edu/ml/machine-learning-databases/heart-disease/)\n"
   ]
  },
  {
   "cell_type": "code",
   "execution_count": 85,
   "metadata": {},
   "outputs": [
    {
     "data": {
      "text/html": [
       "<div>\n",
       "<style scoped>\n",
       "    .dataframe tbody tr th:only-of-type {\n",
       "        vertical-align: middle;\n",
       "    }\n",
       "\n",
       "    .dataframe tbody tr th {\n",
       "        vertical-align: top;\n",
       "    }\n",
       "\n",
       "    .dataframe thead th {\n",
       "        text-align: right;\n",
       "    }\n",
       "</style>\n",
       "<table border=\"1\" class=\"dataframe\">\n",
       "  <thead>\n",
       "    <tr style=\"text-align: right;\">\n",
       "      <th></th>\n",
       "      <th>Age</th>\n",
       "      <th>Sex</th>\n",
       "      <th>ChestPainType</th>\n",
       "      <th>RestingBP</th>\n",
       "      <th>Cholesterol</th>\n",
       "      <th>FastingBS</th>\n",
       "      <th>RestingECG</th>\n",
       "      <th>MaxHR</th>\n",
       "      <th>ExerciseAngina</th>\n",
       "      <th>Oldpeak</th>\n",
       "      <th>ST_Slope</th>\n",
       "      <th>HeartDisease</th>\n",
       "    </tr>\n",
       "  </thead>\n",
       "  <tbody>\n",
       "    <tr>\n",
       "      <th>0</th>\n",
       "      <td>40</td>\n",
       "      <td>M</td>\n",
       "      <td>ATA</td>\n",
       "      <td>140</td>\n",
       "      <td>289</td>\n",
       "      <td>0</td>\n",
       "      <td>Normal</td>\n",
       "      <td>172</td>\n",
       "      <td>N</td>\n",
       "      <td>0.0</td>\n",
       "      <td>Up</td>\n",
       "      <td>0</td>\n",
       "    </tr>\n",
       "    <tr>\n",
       "      <th>1</th>\n",
       "      <td>49</td>\n",
       "      <td>F</td>\n",
       "      <td>NAP</td>\n",
       "      <td>160</td>\n",
       "      <td>180</td>\n",
       "      <td>0</td>\n",
       "      <td>Normal</td>\n",
       "      <td>156</td>\n",
       "      <td>N</td>\n",
       "      <td>1.0</td>\n",
       "      <td>Flat</td>\n",
       "      <td>1</td>\n",
       "    </tr>\n",
       "    <tr>\n",
       "      <th>2</th>\n",
       "      <td>37</td>\n",
       "      <td>M</td>\n",
       "      <td>ATA</td>\n",
       "      <td>130</td>\n",
       "      <td>283</td>\n",
       "      <td>0</td>\n",
       "      <td>ST</td>\n",
       "      <td>98</td>\n",
       "      <td>N</td>\n",
       "      <td>0.0</td>\n",
       "      <td>Up</td>\n",
       "      <td>0</td>\n",
       "    </tr>\n",
       "  </tbody>\n",
       "</table>\n",
       "</div>"
      ],
      "text/plain": [
       "   Age Sex ChestPainType  RestingBP  Cholesterol  FastingBS RestingECG  MaxHR  \\\n",
       "0   40   M           ATA        140          289          0     Normal    172   \n",
       "1   49   F           NAP        160          180          0     Normal    156   \n",
       "2   37   M           ATA        130          283          0         ST     98   \n",
       "\n",
       "  ExerciseAngina  Oldpeak ST_Slope  HeartDisease  \n",
       "0              N      0.0       Up             0  \n",
       "1              N      1.0     Flat             1  \n",
       "2              N      0.0       Up             0  "
      ]
     },
     "execution_count": 85,
     "metadata": {},
     "output_type": "execute_result"
    }
   ],
   "source": [
    "# we import the heart risk dataset\n",
    "hdf = pd.read_csv(\"model_datasets\\heart_risk_data_raw.csv\")\n",
    "hdf.head(3)"
   ]
  },
  {
   "cell_type": "markdown",
   "metadata": {},
   "source": [
    "The dataset came with the following features:\n",
    "\n",
    "1. Age\n",
    "2. Sex\n",
    "3. ChestPainType\n",
    "4. RestingBP\n",
    "5. Cholesterol\n",
    "6. FastingBS\n",
    "7. RestingECG\n",
    "8. MaxHR\n",
    "9. ExerciseAngina\n",
    "10. Oldpeak\n",
    "11. ST_Slope\n",
    "12. HeartDisease"
   ]
  },
  {
   "cell_type": "markdown",
   "metadata": {},
   "source": [
    "Univariate Stats First Glance"
   ]
  },
  {
   "cell_type": "code",
   "execution_count": 86,
   "metadata": {},
   "outputs": [
    {
     "data": {
      "text/html": [
       "<div>\n",
       "<style scoped>\n",
       "    .dataframe tbody tr th:only-of-type {\n",
       "        vertical-align: middle;\n",
       "    }\n",
       "\n",
       "    .dataframe tbody tr th {\n",
       "        vertical-align: top;\n",
       "    }\n",
       "\n",
       "    .dataframe thead th {\n",
       "        text-align: right;\n",
       "    }\n",
       "</style>\n",
       "<table border=\"1\" class=\"dataframe\">\n",
       "  <thead>\n",
       "    <tr style=\"text-align: right;\">\n",
       "      <th></th>\n",
       "      <th>Dtype</th>\n",
       "      <th>Numeric</th>\n",
       "      <th>Count</th>\n",
       "      <th>Missing</th>\n",
       "      <th>Unique</th>\n",
       "      <th>Mode</th>\n",
       "      <th>Mean</th>\n",
       "      <th>Min</th>\n",
       "      <th>25%</th>\n",
       "      <th>Median</th>\n",
       "      <th>75%</th>\n",
       "      <th>Max</th>\n",
       "      <th>Std</th>\n",
       "      <th>Skew</th>\n",
       "      <th>Kurt</th>\n",
       "    </tr>\n",
       "  </thead>\n",
       "  <tbody>\n",
       "    <tr>\n",
       "      <th>FastingBS</th>\n",
       "      <td>int64</td>\n",
       "      <td>True</td>\n",
       "      <td>918</td>\n",
       "      <td>0</td>\n",
       "      <td>2</td>\n",
       "      <td>0</td>\n",
       "      <td>0.23</td>\n",
       "      <td>0</td>\n",
       "      <td>0.0</td>\n",
       "      <td>0.0</td>\n",
       "      <td>0.0</td>\n",
       "      <td>1</td>\n",
       "      <td>0.42</td>\n",
       "      <td>1.26</td>\n",
       "      <td>-0.4</td>\n",
       "    </tr>\n",
       "    <tr>\n",
       "      <th>Oldpeak</th>\n",
       "      <td>float64</td>\n",
       "      <td>True</td>\n",
       "      <td>918</td>\n",
       "      <td>0</td>\n",
       "      <td>53</td>\n",
       "      <td>0.0</td>\n",
       "      <td>0.89</td>\n",
       "      <td>-2.6</td>\n",
       "      <td>0.0</td>\n",
       "      <td>0.6</td>\n",
       "      <td>1.5</td>\n",
       "      <td>6.2</td>\n",
       "      <td>1.07</td>\n",
       "      <td>1.02</td>\n",
       "      <td>1.2</td>\n",
       "    </tr>\n",
       "    <tr>\n",
       "      <th>RestingBP</th>\n",
       "      <td>int64</td>\n",
       "      <td>True</td>\n",
       "      <td>918</td>\n",
       "      <td>0</td>\n",
       "      <td>67</td>\n",
       "      <td>120</td>\n",
       "      <td>132.4</td>\n",
       "      <td>0</td>\n",
       "      <td>120.0</td>\n",
       "      <td>130.0</td>\n",
       "      <td>140.0</td>\n",
       "      <td>200</td>\n",
       "      <td>18.51</td>\n",
       "      <td>0.18</td>\n",
       "      <td>3.27</td>\n",
       "    </tr>\n",
       "    <tr>\n",
       "      <th>MaxHR</th>\n",
       "      <td>int64</td>\n",
       "      <td>True</td>\n",
       "      <td>918</td>\n",
       "      <td>0</td>\n",
       "      <td>119</td>\n",
       "      <td>150</td>\n",
       "      <td>136.81</td>\n",
       "      <td>60</td>\n",
       "      <td>120.0</td>\n",
       "      <td>138.0</td>\n",
       "      <td>156.0</td>\n",
       "      <td>202</td>\n",
       "      <td>25.46</td>\n",
       "      <td>-0.14</td>\n",
       "      <td>-0.45</td>\n",
       "    </tr>\n",
       "    <tr>\n",
       "      <th>Age</th>\n",
       "      <td>int64</td>\n",
       "      <td>True</td>\n",
       "      <td>918</td>\n",
       "      <td>0</td>\n",
       "      <td>50</td>\n",
       "      <td>54</td>\n",
       "      <td>53.51</td>\n",
       "      <td>28</td>\n",
       "      <td>47.0</td>\n",
       "      <td>54.0</td>\n",
       "      <td>60.0</td>\n",
       "      <td>77</td>\n",
       "      <td>9.43</td>\n",
       "      <td>-0.2</td>\n",
       "      <td>-0.39</td>\n",
       "    </tr>\n",
       "    <tr>\n",
       "      <th>HeartDisease</th>\n",
       "      <td>int64</td>\n",
       "      <td>True</td>\n",
       "      <td>918</td>\n",
       "      <td>0</td>\n",
       "      <td>2</td>\n",
       "      <td>1</td>\n",
       "      <td>0.55</td>\n",
       "      <td>0</td>\n",
       "      <td>0.0</td>\n",
       "      <td>1.0</td>\n",
       "      <td>1.0</td>\n",
       "      <td>1</td>\n",
       "      <td>0.5</td>\n",
       "      <td>-0.22</td>\n",
       "      <td>-1.96</td>\n",
       "    </tr>\n",
       "    <tr>\n",
       "      <th>Cholesterol</th>\n",
       "      <td>int64</td>\n",
       "      <td>True</td>\n",
       "      <td>918</td>\n",
       "      <td>0</td>\n",
       "      <td>222</td>\n",
       "      <td>0</td>\n",
       "      <td>198.8</td>\n",
       "      <td>0</td>\n",
       "      <td>173.25</td>\n",
       "      <td>223.0</td>\n",
       "      <td>267.0</td>\n",
       "      <td>603</td>\n",
       "      <td>109.38</td>\n",
       "      <td>-0.61</td>\n",
       "      <td>0.12</td>\n",
       "    </tr>\n",
       "    <tr>\n",
       "      <th>Sex</th>\n",
       "      <td>object</td>\n",
       "      <td>False</td>\n",
       "      <td>918</td>\n",
       "      <td>0</td>\n",
       "      <td>2</td>\n",
       "      <td>M</td>\n",
       "      <td>-</td>\n",
       "      <td>-</td>\n",
       "      <td>-</td>\n",
       "      <td>-</td>\n",
       "      <td>-</td>\n",
       "      <td>-</td>\n",
       "      <td>-</td>\n",
       "      <td>-</td>\n",
       "      <td>-</td>\n",
       "    </tr>\n",
       "    <tr>\n",
       "      <th>ExerciseAngina</th>\n",
       "      <td>object</td>\n",
       "      <td>False</td>\n",
       "      <td>918</td>\n",
       "      <td>0</td>\n",
       "      <td>2</td>\n",
       "      <td>N</td>\n",
       "      <td>-</td>\n",
       "      <td>-</td>\n",
       "      <td>-</td>\n",
       "      <td>-</td>\n",
       "      <td>-</td>\n",
       "      <td>-</td>\n",
       "      <td>-</td>\n",
       "      <td>-</td>\n",
       "      <td>-</td>\n",
       "    </tr>\n",
       "    <tr>\n",
       "      <th>RestingECG</th>\n",
       "      <td>object</td>\n",
       "      <td>False</td>\n",
       "      <td>918</td>\n",
       "      <td>0</td>\n",
       "      <td>3</td>\n",
       "      <td>Normal</td>\n",
       "      <td>-</td>\n",
       "      <td>-</td>\n",
       "      <td>-</td>\n",
       "      <td>-</td>\n",
       "      <td>-</td>\n",
       "      <td>-</td>\n",
       "      <td>-</td>\n",
       "      <td>-</td>\n",
       "      <td>-</td>\n",
       "    </tr>\n",
       "    <tr>\n",
       "      <th>ST_Slope</th>\n",
       "      <td>object</td>\n",
       "      <td>False</td>\n",
       "      <td>918</td>\n",
       "      <td>0</td>\n",
       "      <td>3</td>\n",
       "      <td>Flat</td>\n",
       "      <td>-</td>\n",
       "      <td>-</td>\n",
       "      <td>-</td>\n",
       "      <td>-</td>\n",
       "      <td>-</td>\n",
       "      <td>-</td>\n",
       "      <td>-</td>\n",
       "      <td>-</td>\n",
       "      <td>-</td>\n",
       "    </tr>\n",
       "    <tr>\n",
       "      <th>ChestPainType</th>\n",
       "      <td>object</td>\n",
       "      <td>False</td>\n",
       "      <td>918</td>\n",
       "      <td>0</td>\n",
       "      <td>4</td>\n",
       "      <td>ASY</td>\n",
       "      <td>-</td>\n",
       "      <td>-</td>\n",
       "      <td>-</td>\n",
       "      <td>-</td>\n",
       "      <td>-</td>\n",
       "      <td>-</td>\n",
       "      <td>-</td>\n",
       "      <td>-</td>\n",
       "      <td>-</td>\n",
       "    </tr>\n",
       "  </tbody>\n",
       "</table>\n",
       "</div>"
      ],
      "text/plain": [
       "                  Dtype  Numeric  Count  Missing  Unique    Mode    Mean  Min  \\\n",
       "FastingBS         int64     True    918        0       2       0    0.23    0   \n",
       "Oldpeak         float64     True    918        0      53     0.0    0.89 -2.6   \n",
       "RestingBP         int64     True    918        0      67     120   132.4    0   \n",
       "MaxHR             int64     True    918        0     119     150  136.81   60   \n",
       "Age               int64     True    918        0      50      54   53.51   28   \n",
       "HeartDisease      int64     True    918        0       2       1    0.55    0   \n",
       "Cholesterol       int64     True    918        0     222       0   198.8    0   \n",
       "Sex              object    False    918        0       2       M       -    -   \n",
       "ExerciseAngina   object    False    918        0       2       N       -    -   \n",
       "RestingECG       object    False    918        0       3  Normal       -    -   \n",
       "ST_Slope         object    False    918        0       3    Flat       -    -   \n",
       "ChestPainType    object    False    918        0       4     ASY       -    -   \n",
       "\n",
       "                   25% Median    75%  Max     Std  Skew  Kurt  \n",
       "FastingBS          0.0    0.0    0.0    1    0.42  1.26  -0.4  \n",
       "Oldpeak            0.0    0.6    1.5  6.2    1.07  1.02   1.2  \n",
       "RestingBP        120.0  130.0  140.0  200   18.51  0.18  3.27  \n",
       "MaxHR            120.0  138.0  156.0  202   25.46 -0.14 -0.45  \n",
       "Age               47.0   54.0   60.0   77    9.43  -0.2 -0.39  \n",
       "HeartDisease       0.0    1.0    1.0    1     0.5 -0.22 -1.96  \n",
       "Cholesterol     173.25  223.0  267.0  603  109.38 -0.61  0.12  \n",
       "Sex                  -      -      -    -       -     -     -  \n",
       "ExerciseAngina       -      -      -    -       -     -     -  \n",
       "RestingECG           -      -      -    -       -     -     -  \n",
       "ST_Slope             -      -      -    -       -     -     -  \n",
       "ChestPainType        -      -      -    -       -     -     -  "
      ]
     },
     "execution_count": 86,
     "metadata": {},
     "output_type": "execute_result"
    }
   ],
   "source": [
    "# we call our univariate stats function to get an initial overview of our dataset\n",
    "func.univarstats(hdf)"
   ]
  },
  {
   "cell_type": "markdown",
   "metadata": {},
   "source": [
    "#### **Exploration & Cleaning**"
   ]
  },
  {
   "cell_type": "markdown",
   "metadata": {},
   "source": [
    "##### Sex\n",
    "\n",
    "We plotted the data in the feature \"Sex\" on a bar graph to try to visually interpret the information.\n"
   ]
  },
  {
   "cell_type": "code",
   "execution_count": 87,
   "metadata": {},
   "outputs": [
    {
     "data": {
      "image/png": "[encoded data removed]",
      "text/plain": [
       "<Figure size 720x576 with 1 Axes>"
      ]
     },
     "metadata": {},
     "output_type": "display_data"
    }
   ],
   "source": [
    "sns.countplot(x=hdf[\"HeartDisease\"].apply(lambda x: \"Yes\" if x == 1 else \"No\"), hue = hdf[\"Sex\"])\n",
    "plt.legend(title='Sex', loc='upper left', labels=['Male', 'Female'])\n",
    "plt.xlabel(\"Heart Disease\")\n",
    "plt.ylabel(\"Count\")\n",
    "plt.show()"
   ]
  },
  {
   "cell_type": "markdown",
   "metadata": {},
   "source": [
    "We see that ratio of Males is predominantly higher than Females in our data and also Males are significantly more prone to heart disease than Females."
   ]
  },
  {
   "cell_type": "code",
   "execution_count": 88,
   "metadata": {},
   "outputs": [],
   "source": [
    "# we create dummies for \"Sex\" column\n",
    "hdf[\"Sex\"] = hdf[\"Sex\"].apply(lambda x: 1 if x == \"M\" else 0)"
   ]
  },
  {
   "cell_type": "markdown",
   "metadata": {},
   "source": [
    "##### RestingBP"
   ]
  },
  {
   "cell_type": "code",
   "execution_count": 89,
   "metadata": {},
   "outputs": [
    {
     "data": {
      "text/html": [
       "<div>\n",
       "<style scoped>\n",
       "    .dataframe tbody tr th:only-of-type {\n",
       "        vertical-align: middle;\n",
       "    }\n",
       "\n",
       "    .dataframe tbody tr th {\n",
       "        vertical-align: top;\n",
       "    }\n",
       "\n",
       "    .dataframe thead th {\n",
       "        text-align: right;\n",
       "    }\n",
       "</style>\n",
       "<table border=\"1\" class=\"dataframe\">\n",
       "  <thead>\n",
       "    <tr style=\"text-align: right;\">\n",
       "      <th></th>\n",
       "      <th>Age</th>\n",
       "      <th>Sex</th>\n",
       "      <th>ChestPainType</th>\n",
       "      <th>RestingBP</th>\n",
       "      <th>Cholesterol</th>\n",
       "      <th>FastingBS</th>\n",
       "      <th>RestingECG</th>\n",
       "      <th>MaxHR</th>\n",
       "      <th>ExerciseAngina</th>\n",
       "      <th>Oldpeak</th>\n",
       "      <th>ST_Slope</th>\n",
       "      <th>HeartDisease</th>\n",
       "    </tr>\n",
       "  </thead>\n",
       "  <tbody>\n",
       "    <tr>\n",
       "      <th>449</th>\n",
       "      <td>55</td>\n",
       "      <td>1</td>\n",
       "      <td>NAP</td>\n",
       "      <td>0</td>\n",
       "      <td>0</td>\n",
       "      <td>0</td>\n",
       "      <td>Normal</td>\n",
       "      <td>155</td>\n",
       "      <td>N</td>\n",
       "      <td>1.5</td>\n",
       "      <td>Flat</td>\n",
       "      <td>1</td>\n",
       "    </tr>\n",
       "  </tbody>\n",
       "</table>\n",
       "</div>"
      ],
      "text/plain": [
       "     Age  Sex ChestPainType  RestingBP  Cholesterol  FastingBS RestingECG  \\\n",
       "449   55    1           NAP          0            0          0     Normal   \n",
       "\n",
       "     MaxHR ExerciseAngina  Oldpeak ST_Slope  HeartDisease  \n",
       "449    155              N      1.5     Flat             1  "
      ]
     },
     "execution_count": 89,
     "metadata": {},
     "output_type": "execute_result"
    }
   ],
   "source": [
    "# we check for a observation with corrupted information on RestingBP\n",
    "hdf[hdf[\"RestingBP\"] <= 70]"
   ]
  },
  {
   "cell_type": "code",
   "execution_count": 90,
   "metadata": {},
   "outputs": [],
   "source": [
    "# we drop the observation\n",
    "hdf.drop([449], axis=0, inplace=True)"
   ]
  },
  {
   "cell_type": "markdown",
   "metadata": {},
   "source": [
    "We detected a discrepancy with this particular feature in the dataset.\n",
    "\n",
    "According to Centre of Disease Control and Prevention ( [Source](https://www.cdc.gov/bloodpressure/about.htm#:~:text=Blood%20pressure%20is%20measured%20using,your%20heart%20rests%20between%20beats.)),\n",
    "\n",
    "“Blood pressure is measured using two numbers: The first number, called systolic blood pressure, measures the pressure in your arteries when your heart beats. The second number, called diastolic blood pressure, measures the pressure in your arteries when your heart rests between beats.”\n",
    "\n",
    "But upon exploring the information provided in our dataset by checking its measures of central tendency and distribution plot, we see that we are given the systolic blood pressure and not the diastolic blood pressure as the feature name implies.\n"
   ]
  },
  {
   "cell_type": "code",
   "execution_count": 91,
   "metadata": {},
   "outputs": [
    {
     "name": "stdout",
     "output_type": "stream",
     "text": [
      "Mean: 132.54089422028352\n",
      "Median: 130.0\n",
      "Mode: 120\n"
     ]
    },
    {
     "data": {
      "image/png": "[encoded data removed]",
      "text/plain": [
       "<Figure size 720x576 with 1 Axes>"
      ]
     },
     "metadata": {},
     "output_type": "display_data"
    }
   ],
   "source": [
    "print(\"Mean:\", hdf[\"RestingBP\"].mean())\n",
    "print(\"Median:\", hdf[\"RestingBP\"].median())\n",
    "print(\"Mode:\", hdf[\"RestingBP\"].mode()[0])\n",
    "sns.distplot(hdf[\"RestingBP\"])\n",
    "plt.show()"
   ]
  },
  {
   "cell_type": "markdown",
   "metadata": {},
   "source": [
    "So, we proceeded to classify everyone with the assumption that it is systolic blood pressure with anyone above 140 as hypertensive in accordance with the guidelines from the CDC website provided above."
   ]
  },
  {
   "cell_type": "code",
   "execution_count": 92,
   "metadata": {},
   "outputs": [],
   "source": [
    "# we create a column to classify hypertension from the blood pressure measurements (we assume as systolic BP)\n",
    "hdf[\"hypertension\"] = hdf[\"RestingBP\"].apply(lambda x: 1 if x >= 140 else 0)"
   ]
  },
  {
   "cell_type": "markdown",
   "metadata": {},
   "source": [
    "We plot the information on a bar graph to try to visually interpret the information."
   ]
  },
  {
   "cell_type": "code",
   "execution_count": 93,
   "metadata": {},
   "outputs": [
    {
     "data": {
      "image/png": "[encoded data removed]",
      "text/plain": [
       "<Figure size 720x576 with 1 Axes>"
      ]
     },
     "metadata": {},
     "output_type": "display_data"
    }
   ],
   "source": [
    "sns.countplot(x=hdf[\"HeartDisease\"].apply(lambda x: \"Yes\" if x == 1 else \"No\"), hue = hdf[\"hypertension\"])\n",
    "plt.legend(title='Hypertension', loc='upper right', labels=['No', 'Yes'])\n",
    "plt.xlabel(\"Heart Disease\")\n",
    "plt.ylabel(\"Count\")\n",
    "plt.show()"
   ]
  },
  {
   "cell_type": "markdown",
   "metadata": {},
   "source": [
    "We see that people with hypertension are more prone to having heart disease compared to people without hypertension."
   ]
  },
  {
   "cell_type": "markdown",
   "metadata": {},
   "source": [
    "##### Age"
   ]
  },
  {
   "cell_type": "markdown",
   "metadata": {},
   "source": [
    "We create bins of 10 years and plot them on a bar graph to visually interpret the information."
   ]
  },
  {
   "cell_type": "code",
   "execution_count": 94,
   "metadata": {},
   "outputs": [
    {
     "data": {
      "image/png": "[encoded data removed]",
      "text/plain": [
       "<Figure size 720x576 with 1 Axes>"
      ]
     },
     "metadata": {},
     "output_type": "display_data"
    }
   ],
   "source": [
    "# we plot the age bins on a bar graph to visually explore the data in the feature\n",
    "hdf[\"Age_bins\"] = pd.cut(hdf[\"Age\"], bins=[0,10,20,30,40,50,60,70,80,90])\n",
    "sns.countplot(x=hdf[\"Age_bins\"], hue=hdf[\"HeartDisease\"])\n",
    "plt.legend(title='Heart Disease', loc='upper right', labels=['No', 'Yes'])\n",
    "plt.xlabel(\"Age ( Bins of 10 )\")\n",
    "plt.ylabel(\"Count\")\n",
    "plt.show()"
   ]
  },
  {
   "cell_type": "markdown",
   "metadata": {},
   "source": [
    "We can see that majority of our data is of people from 30 to 80 years of age and the people of higher age ( 50+ ) are more susceptible to heart disease.\n",
    "\n",
    "**We keep a note about this going forward as we only want to use classification in people between 30 to 80 years of age.**"
   ]
  },
  {
   "cell_type": "code",
   "execution_count": 95,
   "metadata": {},
   "outputs": [],
   "source": [
    "# we drop the features that we dont have information to in our assam health survey dataset\n",
    "hdf.drop([\"ChestPainType\", \"Cholesterol\", \"RestingECG\", \"MaxHR\", \"ExerciseAngina\", \"Oldpeak\", \"ST_Slope\", \"RestingBP\", \"Age_bins\"], axis=1, inplace=True)"
   ]
  },
  {
   "cell_type": "markdown",
   "metadata": {},
   "source": [
    "#### **Testing**"
   ]
  },
  {
   "cell_type": "markdown",
   "metadata": {},
   "source": [
    "We check the correlation of our relevant features with each other and plot them on a heatmap."
   ]
  },
  {
   "cell_type": "code",
   "execution_count": 96,
   "metadata": {},
   "outputs": [
    {
     "data": {
      "text/html": [
       "<div>\n",
       "<style scoped>\n",
       "    .dataframe tbody tr th:only-of-type {\n",
       "        vertical-align: middle;\n",
       "    }\n",
       "\n",
       "    .dataframe tbody tr th {\n",
       "        vertical-align: top;\n",
       "    }\n",
       "\n",
       "    .dataframe thead th {\n",
       "        text-align: right;\n",
       "    }\n",
       "</style>\n",
       "<table border=\"1\" class=\"dataframe\">\n",
       "  <thead>\n",
       "    <tr style=\"text-align: right;\">\n",
       "      <th></th>\n",
       "      <th>Age</th>\n",
       "      <th>Sex</th>\n",
       "      <th>FastingBS</th>\n",
       "      <th>HeartDisease</th>\n",
       "      <th>hypertension</th>\n",
       "    </tr>\n",
       "  </thead>\n",
       "  <tbody>\n",
       "    <tr>\n",
       "      <th>Age</th>\n",
       "      <td>1.000000</td>\n",
       "      <td>0.055670</td>\n",
       "      <td>0.198170</td>\n",
       "      <td>0.282012</td>\n",
       "      <td>0.226031</td>\n",
       "    </tr>\n",
       "    <tr>\n",
       "      <th>Sex</th>\n",
       "      <td>0.055670</td>\n",
       "      <td>1.000000</td>\n",
       "      <td>0.120424</td>\n",
       "      <td>0.305118</td>\n",
       "      <td>0.043693</td>\n",
       "    </tr>\n",
       "    <tr>\n",
       "      <th>FastingBS</th>\n",
       "      <td>0.198170</td>\n",
       "      <td>0.120424</td>\n",
       "      <td>1.000000</td>\n",
       "      <td>0.267994</td>\n",
       "      <td>0.052146</td>\n",
       "    </tr>\n",
       "    <tr>\n",
       "      <th>HeartDisease</th>\n",
       "      <td>0.282012</td>\n",
       "      <td>0.305118</td>\n",
       "      <td>0.267994</td>\n",
       "      <td>1.000000</td>\n",
       "      <td>0.110836</td>\n",
       "    </tr>\n",
       "    <tr>\n",
       "      <th>hypertension</th>\n",
       "      <td>0.226031</td>\n",
       "      <td>0.043693</td>\n",
       "      <td>0.052146</td>\n",
       "      <td>0.110836</td>\n",
       "      <td>1.000000</td>\n",
       "    </tr>\n",
       "  </tbody>\n",
       "</table>\n",
       "</div>"
      ],
      "text/plain": [
       "                   Age       Sex  FastingBS  HeartDisease  hypertension\n",
       "Age           1.000000  0.055670   0.198170      0.282012      0.226031\n",
       "Sex           0.055670  1.000000   0.120424      0.305118      0.043693\n",
       "FastingBS     0.198170  0.120424   1.000000      0.267994      0.052146\n",
       "HeartDisease  0.282012  0.305118   0.267994      1.000000      0.110836\n",
       "hypertension  0.226031  0.043693   0.052146      0.110836      1.000000"
      ]
     },
     "execution_count": 96,
     "metadata": {},
     "output_type": "execute_result"
    }
   ],
   "source": [
    "# we check the correlation of the features among each other\n",
    "hdf.corr()"
   ]
  },
  {
   "cell_type": "code",
   "execution_count": 97,
   "metadata": {},
   "outputs": [
    {
     "data": {
      "image/png": "[encoded data removed]",
      "text/plain": [
       "<Figure size 720x576 with 2 Axes>"
      ]
     },
     "metadata": {},
     "output_type": "display_data"
    }
   ],
   "source": [
    "# we plot the correlation on a heatmap for better understanding\n",
    "sns.heatmap(hdf.corr(), annot=True, fmt=\".3f\", cmap=\"Blues\")\n",
    "plt.show()"
   ]
  },
  {
   "cell_type": "markdown",
   "metadata": {},
   "source": [
    "We see most of our features have relatively reliable correlation with our target variable."
   ]
  },
  {
   "cell_type": "markdown",
   "metadata": {},
   "source": [
    "#### **Modelling**"
   ]
  },
  {
   "cell_type": "code",
   "execution_count": 98,
   "metadata": {},
   "outputs": [],
   "source": [
    "# we import the required Machine Learning libraries to build our Classifier\n",
    "from sklearn.preprocessing import StandardScaler\n",
    "from sklearn.model_selection import train_test_split\n",
    "from sklearn.metrics import classification_report"
   ]
  },
  {
   "cell_type": "markdown",
   "metadata": {},
   "source": [
    "We start our modelling process by scaling our data and splitting it into training and testing sets."
   ]
  },
  {
   "cell_type": "code",
   "execution_count": 99,
   "metadata": {},
   "outputs": [],
   "source": [
    "# we scale our dataset for ML model\n",
    "scaler = StandardScaler()\n",
    "X_scaled = scaler.fit_transform(hdf.drop(columns=[\"HeartDisease\"]))\n",
    "y = hdf[\"HeartDisease\"]"
   ]
  },
  {
   "cell_type": "code",
   "execution_count": 100,
   "metadata": {},
   "outputs": [],
   "source": [
    "# we split and create the training and testing set\n",
    "X_train, X_test, y_train, y_test = train_test_split(X_scaled, y, test_size=0.2, stratify=y, random_state=45)"
   ]
  },
  {
   "cell_type": "markdown",
   "metadata": {},
   "source": [
    "We decided to use k-nearest neighbors (KNN) classifier to build our classifier model because our dataset is small and simple and the classifier is easy to implement and intuitive to understand. Also, because our data has been cleaned of outliers which could cause issues in KNN Classifier, thus it made it even more suitable to use KNN to produce reliable results."
   ]
  },
  {
   "cell_type": "markdown",
   "metadata": {},
   "source": [
    "We fit our training data on the default KNN Classifier with 5 nearest neighbors and evaluate our performance as baseline."
   ]
  },
  {
   "cell_type": "code",
   "execution_count": 101,
   "metadata": {},
   "outputs": [
    {
     "name": "stdout",
     "output_type": "stream",
     "text": [
      "              precision    recall  f1-score   support\n",
      "\n",
      "           0       0.67      0.52      0.59        82\n",
      "           1       0.68      0.79      0.73       102\n",
      "\n",
      "    accuracy                           0.67       184\n",
      "   macro avg       0.67      0.66      0.66       184\n",
      "weighted avg       0.67      0.67      0.67       184\n",
      "\n"
     ]
    }
   ],
   "source": [
    "# we fit the data on our classifier with default hyper parameters and evaluate the scores\n",
    "from sklearn.neighbors import KNeighborsClassifier\n",
    "knn_model = KNeighborsClassifier()\n",
    "knn_model.fit(X_train, y_train)\n",
    "print(classification_report(y_test, knn_model.predict(X_test)))"
   ]
  },
  {
   "cell_type": "markdown",
   "metadata": {},
   "source": [
    "Then, we decide to run a For-Loop to find the optimal value of nearest neighbors that gives the best accuracy scores on our testing set and subsequently plot the results on a line graph along with the number of neighbors which gives the best accuracy score."
   ]
  },
  {
   "cell_type": "code",
   "execution_count": 102,
   "metadata": {},
   "outputs": [],
   "source": [
    "counter = []\n",
    "testlist = []\n",
    "for i in range(1, len(X_train)):\n",
    "    knn_model = KNeighborsClassifier(n_neighbors=i)\n",
    "    knn_model.fit(X_train, y_train)\n",
    "    testlist.append(knn_model.score(X_test, y_test))\n",
    "    counter.append(i)\n",
    "testdict = dict(zip(counter, testlist))"
   ]
  },
  {
   "cell_type": "code",
   "execution_count": 103,
   "metadata": {},
   "outputs": [
    {
     "name": "stdout",
     "output_type": "stream",
     "text": [
      "1 Max Accuracy Score= 0.7391304347826086 \n",
      "Number of Neighbors= 16\n",
      "2 Max Accuracy Score= 0.7391304347826086 \n",
      "Number of Neighbors= 18\n"
     ]
    },
    {
     "data": {
      "image/png": "[encoded data removed]",
      "text/plain": [
       "<Figure size 720x576 with 1 Axes>"
      ]
     },
     "metadata": {},
     "output_type": "display_data"
    }
   ],
   "source": [
    "# we plot the results and run a simple for-loop to find the no of neighbors of the max accuracy score\n",
    "plt.plot(testdict.values())\n",
    "plt.xlabel(\"Number of Neighbors\")\n",
    "plt.ylabel(\"Accuracy Score on Testing Set\");\n",
    "\n",
    "count = 0\n",
    "for key, value in testdict.items():\n",
    "         if max(testdict.values()) == value:\n",
    "             count += 1\n",
    "             print(str(count), \"Max Accuracy Score=\",value,\"\\nNumber of Neighbors=\",key)"
   ]
  },
  {
   "cell_type": "markdown",
   "metadata": {},
   "source": [
    "We see that 16 and 18 number of neighbors gave the best accuracy score on the testing set. We decided to use either of them ( 18 in our case ) to fit our training data and evaluated the performance on the testing dataset."
   ]
  },
  {
   "cell_type": "code",
   "execution_count": 104,
   "metadata": {},
   "outputs": [
    {
     "name": "stdout",
     "output_type": "stream",
     "text": [
      "              precision    recall  f1-score   support\n",
      "\n",
      "           0       0.78      0.57      0.66        82\n",
      "           1       0.72      0.87      0.79       102\n",
      "\n",
      "    accuracy                           0.74       184\n",
      "   macro avg       0.75      0.72      0.72       184\n",
      "weighted avg       0.75      0.74      0.73       184\n",
      "\n"
     ]
    }
   ],
   "source": [
    "# we fit the knn model with optimal neighbors and evaluate performance\n",
    "knn_model= KNeighborsClassifier(n_neighbors=18)\n",
    "knn_model.fit(X_train, y_train)\n",
    "y_pred= knn_model.predict(X_test)\n",
    "print(classification_report(y_test, y_pred))"
   ]
  },
  {
   "cell_type": "markdown",
   "metadata": {},
   "source": [
    "We see that there is a significant improvement in performance compared to baseline especially in detection(recall) and precision scores.\n",
    "Hence, we decided to save this classifier and proceeded next to our Stroke Risk Dataset."
   ]
  },
  {
   "cell_type": "code",
   "execution_count": 105,
   "metadata": {},
   "outputs": [
    {
     "data": {
      "text/plain": [
       "KNeighborsClassifier(n_neighbors=18)"
      ]
     },
     "execution_count": 105,
     "metadata": {},
     "output_type": "execute_result"
    }
   ],
   "source": [
    "heart_model= KNeighborsClassifier(n_neighbors=18)\n",
    "heart_model.fit(X_scaled, y)"
   ]
  },
  {
   "cell_type": "markdown",
   "metadata": {},
   "source": [
    "#### **Stroke Risk Dataset**"
   ]
  },
  {
   "cell_type": "markdown",
   "metadata": {},
   "source": [
    "The dataset for stroke risk classification is sourced from [Link](https://data.mendeley.com/datasets/x8ygrw87jw/1)\n",
    "\n",
    "This dataset is extremely imbalanced with a 1 : 55 minority to majority class ratio and comes with a total of 43400 observations. We will be applying various measures to balance the dataset going forward.\n",
    "The dataset came with the following features:\n",
    "1. id\n",
    "2. gender\n",
    "3. age\n",
    "4. hypertension\n",
    "5. heart_disease\n",
    "6. ever_married\n",
    "7. work_type\n",
    "8. Residence_type\n",
    "9. avg_glucose_level\n",
    "10. bmi\n",
    "11. smoking_status\n",
    "12. stroke\n"
   ]
  },
  {
   "cell_type": "code",
   "execution_count": 106,
   "metadata": {},
   "outputs": [
    {
     "data": {
      "text/html": [
       "<div>\n",
       "<style scoped>\n",
       "    .dataframe tbody tr th:only-of-type {\n",
       "        vertical-align: middle;\n",
       "    }\n",
       "\n",
       "    .dataframe tbody tr th {\n",
       "        vertical-align: top;\n",
       "    }\n",
       "\n",
       "    .dataframe thead th {\n",
       "        text-align: right;\n",
       "    }\n",
       "</style>\n",
       "<table border=\"1\" class=\"dataframe\">\n",
       "  <thead>\n",
       "    <tr style=\"text-align: right;\">\n",
       "      <th></th>\n",
       "      <th>id</th>\n",
       "      <th>gender</th>\n",
       "      <th>age</th>\n",
       "      <th>hypertension</th>\n",
       "      <th>heart_disease</th>\n",
       "      <th>ever_married</th>\n",
       "      <th>work_type</th>\n",
       "      <th>Residence_type</th>\n",
       "      <th>avg_glucose_level</th>\n",
       "      <th>bmi</th>\n",
       "      <th>smoking_status</th>\n",
       "      <th>stroke</th>\n",
       "    </tr>\n",
       "  </thead>\n",
       "  <tbody>\n",
       "    <tr>\n",
       "      <th>0</th>\n",
       "      <td>30669</td>\n",
       "      <td>Male</td>\n",
       "      <td>3.0</td>\n",
       "      <td>0</td>\n",
       "      <td>0</td>\n",
       "      <td>No</td>\n",
       "      <td>children</td>\n",
       "      <td>Rural</td>\n",
       "      <td>95.12</td>\n",
       "      <td>18.0</td>\n",
       "      <td>NaN</td>\n",
       "      <td>0</td>\n",
       "    </tr>\n",
       "    <tr>\n",
       "      <th>1</th>\n",
       "      <td>30468</td>\n",
       "      <td>Male</td>\n",
       "      <td>58.0</td>\n",
       "      <td>1</td>\n",
       "      <td>0</td>\n",
       "      <td>Yes</td>\n",
       "      <td>Private</td>\n",
       "      <td>Urban</td>\n",
       "      <td>87.96</td>\n",
       "      <td>39.2</td>\n",
       "      <td>never smoked</td>\n",
       "      <td>0</td>\n",
       "    </tr>\n",
       "    <tr>\n",
       "      <th>2</th>\n",
       "      <td>16523</td>\n",
       "      <td>Female</td>\n",
       "      <td>8.0</td>\n",
       "      <td>0</td>\n",
       "      <td>0</td>\n",
       "      <td>No</td>\n",
       "      <td>Private</td>\n",
       "      <td>Urban</td>\n",
       "      <td>110.89</td>\n",
       "      <td>17.6</td>\n",
       "      <td>NaN</td>\n",
       "      <td>0</td>\n",
       "    </tr>\n",
       "  </tbody>\n",
       "</table>\n",
       "</div>"
      ],
      "text/plain": [
       "      id  gender   age  hypertension  heart_disease ever_married work_type  \\\n",
       "0  30669    Male   3.0             0              0           No  children   \n",
       "1  30468    Male  58.0             1              0          Yes   Private   \n",
       "2  16523  Female   8.0             0              0           No   Private   \n",
       "\n",
       "  Residence_type  avg_glucose_level   bmi smoking_status  stroke  \n",
       "0          Rural              95.12  18.0            NaN       0  \n",
       "1          Urban              87.96  39.2   never smoked       0  \n",
       "2          Urban             110.89  17.6            NaN       0  "
      ]
     },
     "execution_count": 106,
     "metadata": {},
     "output_type": "execute_result"
    }
   ],
   "source": [
    "# we import the stroke risk dataset\n",
    "sdf = pd.read_csv(\"model_datasets\\stroke_risk_data_raw.csv\")\n",
    "sdf.head(3)"
   ]
  },
  {
   "cell_type": "markdown",
   "metadata": {},
   "source": [
    "Univariate Stats First Glance"
   ]
  },
  {
   "cell_type": "code",
   "execution_count": 107,
   "metadata": {},
   "outputs": [
    {
     "data": {
      "text/html": [
       "<div>\n",
       "<style scoped>\n",
       "    .dataframe tbody tr th:only-of-type {\n",
       "        vertical-align: middle;\n",
       "    }\n",
       "\n",
       "    .dataframe tbody tr th {\n",
       "        vertical-align: top;\n",
       "    }\n",
       "\n",
       "    .dataframe thead th {\n",
       "        text-align: right;\n",
       "    }\n",
       "</style>\n",
       "<table border=\"1\" class=\"dataframe\">\n",
       "  <thead>\n",
       "    <tr style=\"text-align: right;\">\n",
       "      <th></th>\n",
       "      <th>Dtype</th>\n",
       "      <th>Numeric</th>\n",
       "      <th>Count</th>\n",
       "      <th>Missing</th>\n",
       "      <th>Unique</th>\n",
       "      <th>Mode</th>\n",
       "      <th>Mean</th>\n",
       "      <th>Min</th>\n",
       "      <th>25%</th>\n",
       "      <th>Median</th>\n",
       "      <th>75%</th>\n",
       "      <th>Max</th>\n",
       "      <th>Std</th>\n",
       "      <th>Skew</th>\n",
       "      <th>Kurt</th>\n",
       "    </tr>\n",
       "  </thead>\n",
       "  <tbody>\n",
       "    <tr>\n",
       "      <th>stroke</th>\n",
       "      <td>int64</td>\n",
       "      <td>True</td>\n",
       "      <td>43400</td>\n",
       "      <td>0</td>\n",
       "      <td>2</td>\n",
       "      <td>0</td>\n",
       "      <td>0.02</td>\n",
       "      <td>0</td>\n",
       "      <td>0.0</td>\n",
       "      <td>0.0</td>\n",
       "      <td>0.0</td>\n",
       "      <td>1</td>\n",
       "      <td>0.13</td>\n",
       "      <td>7.24</td>\n",
       "      <td>50.45</td>\n",
       "    </tr>\n",
       "    <tr>\n",
       "      <th>heart_disease</th>\n",
       "      <td>int64</td>\n",
       "      <td>True</td>\n",
       "      <td>43400</td>\n",
       "      <td>0</td>\n",
       "      <td>2</td>\n",
       "      <td>0</td>\n",
       "      <td>0.05</td>\n",
       "      <td>0</td>\n",
       "      <td>0.0</td>\n",
       "      <td>0.0</td>\n",
       "      <td>0.0</td>\n",
       "      <td>1</td>\n",
       "      <td>0.21</td>\n",
       "      <td>4.25</td>\n",
       "      <td>16.1</td>\n",
       "    </tr>\n",
       "    <tr>\n",
       "      <th>hypertension</th>\n",
       "      <td>int64</td>\n",
       "      <td>True</td>\n",
       "      <td>43400</td>\n",
       "      <td>0</td>\n",
       "      <td>2</td>\n",
       "      <td>0</td>\n",
       "      <td>0.09</td>\n",
       "      <td>0</td>\n",
       "      <td>0.0</td>\n",
       "      <td>0.0</td>\n",
       "      <td>0.0</td>\n",
       "      <td>1</td>\n",
       "      <td>0.29</td>\n",
       "      <td>2.79</td>\n",
       "      <td>5.79</td>\n",
       "    </tr>\n",
       "    <tr>\n",
       "      <th>avg_glucose_level</th>\n",
       "      <td>float64</td>\n",
       "      <td>True</td>\n",
       "      <td>43400</td>\n",
       "      <td>0</td>\n",
       "      <td>12543</td>\n",
       "      <td>82.71</td>\n",
       "      <td>104.48</td>\n",
       "      <td>55.0</td>\n",
       "      <td>77.54</td>\n",
       "      <td>91.58</td>\n",
       "      <td>112.07</td>\n",
       "      <td>291.05</td>\n",
       "      <td>43.11</td>\n",
       "      <td>1.68</td>\n",
       "      <td>2.18</td>\n",
       "    </tr>\n",
       "    <tr>\n",
       "      <th>bmi</th>\n",
       "      <td>float64</td>\n",
       "      <td>True</td>\n",
       "      <td>41938</td>\n",
       "      <td>1462</td>\n",
       "      <td>555</td>\n",
       "      <td>27.7</td>\n",
       "      <td>28.61</td>\n",
       "      <td>10.1</td>\n",
       "      <td>23.2</td>\n",
       "      <td>27.7</td>\n",
       "      <td>32.9</td>\n",
       "      <td>97.6</td>\n",
       "      <td>7.77</td>\n",
       "      <td>0.9</td>\n",
       "      <td>1.99</td>\n",
       "    </tr>\n",
       "    <tr>\n",
       "      <th>id</th>\n",
       "      <td>int64</td>\n",
       "      <td>True</td>\n",
       "      <td>43400</td>\n",
       "      <td>0</td>\n",
       "      <td>43400</td>\n",
       "      <td>1</td>\n",
       "      <td>36326.14</td>\n",
       "      <td>1</td>\n",
       "      <td>18038.5</td>\n",
       "      <td>36351.5</td>\n",
       "      <td>54514.25</td>\n",
       "      <td>72943</td>\n",
       "      <td>21072.13</td>\n",
       "      <td>0.0</td>\n",
       "      <td>-1.2</td>\n",
       "    </tr>\n",
       "    <tr>\n",
       "      <th>age</th>\n",
       "      <td>float64</td>\n",
       "      <td>True</td>\n",
       "      <td>43400</td>\n",
       "      <td>0</td>\n",
       "      <td>104</td>\n",
       "      <td>51.0</td>\n",
       "      <td>42.22</td>\n",
       "      <td>0.08</td>\n",
       "      <td>24.0</td>\n",
       "      <td>44.0</td>\n",
       "      <td>60.0</td>\n",
       "      <td>82.0</td>\n",
       "      <td>22.52</td>\n",
       "      <td>-0.1</td>\n",
       "      <td>-1.0</td>\n",
       "    </tr>\n",
       "    <tr>\n",
       "      <th>ever_married</th>\n",
       "      <td>object</td>\n",
       "      <td>False</td>\n",
       "      <td>43400</td>\n",
       "      <td>0</td>\n",
       "      <td>2</td>\n",
       "      <td>Yes</td>\n",
       "      <td>-</td>\n",
       "      <td>-</td>\n",
       "      <td>-</td>\n",
       "      <td>-</td>\n",
       "      <td>-</td>\n",
       "      <td>-</td>\n",
       "      <td>-</td>\n",
       "      <td>-</td>\n",
       "      <td>-</td>\n",
       "    </tr>\n",
       "    <tr>\n",
       "      <th>Residence_type</th>\n",
       "      <td>object</td>\n",
       "      <td>False</td>\n",
       "      <td>43400</td>\n",
       "      <td>0</td>\n",
       "      <td>2</td>\n",
       "      <td>Urban</td>\n",
       "      <td>-</td>\n",
       "      <td>-</td>\n",
       "      <td>-</td>\n",
       "      <td>-</td>\n",
       "      <td>-</td>\n",
       "      <td>-</td>\n",
       "      <td>-</td>\n",
       "      <td>-</td>\n",
       "      <td>-</td>\n",
       "    </tr>\n",
       "    <tr>\n",
       "      <th>gender</th>\n",
       "      <td>object</td>\n",
       "      <td>False</td>\n",
       "      <td>43400</td>\n",
       "      <td>0</td>\n",
       "      <td>3</td>\n",
       "      <td>Female</td>\n",
       "      <td>-</td>\n",
       "      <td>-</td>\n",
       "      <td>-</td>\n",
       "      <td>-</td>\n",
       "      <td>-</td>\n",
       "      <td>-</td>\n",
       "      <td>-</td>\n",
       "      <td>-</td>\n",
       "      <td>-</td>\n",
       "    </tr>\n",
       "    <tr>\n",
       "      <th>smoking_status</th>\n",
       "      <td>object</td>\n",
       "      <td>False</td>\n",
       "      <td>30108</td>\n",
       "      <td>13292</td>\n",
       "      <td>3</td>\n",
       "      <td>never smoked</td>\n",
       "      <td>-</td>\n",
       "      <td>-</td>\n",
       "      <td>-</td>\n",
       "      <td>-</td>\n",
       "      <td>-</td>\n",
       "      <td>-</td>\n",
       "      <td>-</td>\n",
       "      <td>-</td>\n",
       "      <td>-</td>\n",
       "    </tr>\n",
       "    <tr>\n",
       "      <th>work_type</th>\n",
       "      <td>object</td>\n",
       "      <td>False</td>\n",
       "      <td>43400</td>\n",
       "      <td>0</td>\n",
       "      <td>5</td>\n",
       "      <td>Private</td>\n",
       "      <td>-</td>\n",
       "      <td>-</td>\n",
       "      <td>-</td>\n",
       "      <td>-</td>\n",
       "      <td>-</td>\n",
       "      <td>-</td>\n",
       "      <td>-</td>\n",
       "      <td>-</td>\n",
       "      <td>-</td>\n",
       "    </tr>\n",
       "  </tbody>\n",
       "</table>\n",
       "</div>"
      ],
      "text/plain": [
       "                     Dtype  Numeric  Count  Missing  Unique          Mode  \\\n",
       "stroke               int64     True  43400        0       2             0   \n",
       "heart_disease        int64     True  43400        0       2             0   \n",
       "hypertension         int64     True  43400        0       2             0   \n",
       "avg_glucose_level  float64     True  43400        0   12543         82.71   \n",
       "bmi                float64     True  41938     1462     555          27.7   \n",
       "id                   int64     True  43400        0   43400             1   \n",
       "age                float64     True  43400        0     104          51.0   \n",
       "ever_married        object    False  43400        0       2           Yes   \n",
       "Residence_type      object    False  43400        0       2         Urban   \n",
       "gender              object    False  43400        0       3        Female   \n",
       "smoking_status      object    False  30108    13292       3  never smoked   \n",
       "work_type           object    False  43400        0       5       Private   \n",
       "\n",
       "                       Mean   Min      25%   Median       75%     Max  \\\n",
       "stroke                 0.02     0      0.0      0.0       0.0       1   \n",
       "heart_disease          0.05     0      0.0      0.0       0.0       1   \n",
       "hypertension           0.09     0      0.0      0.0       0.0       1   \n",
       "avg_glucose_level    104.48  55.0    77.54    91.58    112.07  291.05   \n",
       "bmi                   28.61  10.1     23.2     27.7      32.9    97.6   \n",
       "id                 36326.14     1  18038.5  36351.5  54514.25   72943   \n",
       "age                   42.22  0.08     24.0     44.0      60.0    82.0   \n",
       "ever_married              -     -        -        -         -       -   \n",
       "Residence_type            -     -        -        -         -       -   \n",
       "gender                    -     -        -        -         -       -   \n",
       "smoking_status            -     -        -        -         -       -   \n",
       "work_type                 -     -        -        -         -       -   \n",
       "\n",
       "                        Std  Skew   Kurt  \n",
       "stroke                 0.13  7.24  50.45  \n",
       "heart_disease          0.21  4.25   16.1  \n",
       "hypertension           0.29  2.79   5.79  \n",
       "avg_glucose_level     43.11  1.68   2.18  \n",
       "bmi                    7.77   0.9   1.99  \n",
       "id                 21072.13   0.0   -1.2  \n",
       "age                   22.52  -0.1   -1.0  \n",
       "ever_married              -     -      -  \n",
       "Residence_type            -     -      -  \n",
       "gender                    -     -      -  \n",
       "smoking_status            -     -      -  \n",
       "work_type                 -     -      -  "
      ]
     },
     "execution_count": 107,
     "metadata": {},
     "output_type": "execute_result"
    }
   ],
   "source": [
    "# we call our univariate stats function to get an initial overview of our dataset\n",
    "func.univarstats(sdf)"
   ]
  },
  {
   "cell_type": "code",
   "execution_count": 108,
   "metadata": {},
   "outputs": [
    {
     "name": "stdout",
     "output_type": "stream",
     "text": [
      "Observations of Class 0: 42617\n",
      "Observations of Class 1: 783\n",
      "Proportion of Minority Class: 1.8 percent\n"
     ]
    }
   ],
   "source": [
    "# we see that we have an extremely imbalanced dataset\n",
    "vcount = sdf.stroke.value_counts()\n",
    "print(\"Observations of Class 0:\", vcount[0])\n",
    "print(\"Observations of Class 1:\", vcount[1])\n",
    "print(\"Proportion of Minority Class:\", str(np.round((vcount[1] / (vcount[0] + vcount[1]))*100, 2)) + \" percent\")"
   ]
  },
  {
   "cell_type": "markdown",
   "metadata": {},
   "source": [
    "As we can see this dataset is very interesting in the sense that it is extremely imbalanced with the proportion of minority class being 1.8%. We will be applying various measures to try to balance the dataset before making the classification model."
   ]
  },
  {
   "cell_type": "markdown",
   "metadata": {},
   "source": [
    "#### **Exploration and Cleaning**\n",
    "\n",
    "First, we filter out our dataset with age range of 30 to 80 years only in accordance to our exploration of Age feature in our Heart Risk Dataset.\n",
    "Then, we start exploring and cleaning as we go through all our relevant features."
   ]
  },
  {
   "cell_type": "code",
   "execution_count": 109,
   "metadata": {},
   "outputs": [],
   "source": [
    "# we limit age range to 30 to 80 year old as that is where our Heart Risk Classifier model is trained on (Read note above in Heart Risk Dataset)\n",
    "sdf = sdf[(sdf[\"age\"] >= 30) & (sdf[\"age\"] <= 80)]"
   ]
  },
  {
   "cell_type": "markdown",
   "metadata": {},
   "source": [
    "##### BMI\n",
    "We fill the null values in the feature with the mean of BMI of the individual groups of if the person had or not had a stroke."
   ]
  },
  {
   "cell_type": "code",
   "execution_count": 110,
   "metadata": {},
   "outputs": [],
   "source": [
    "# we fill null values in bmi with mean of the individual groups\n",
    "stroke_group_bmi_mean = sdf[sdf[\"stroke\"] == 1].bmi.mean()\n",
    "non_stroke_group_bmi_mean = sdf[sdf[\"stroke\"] == 0].bmi.mean()\n",
    "sdf.loc[(sdf[\"stroke\"] == 1) & (sdf[\"bmi\"].isna()), \"bmi\"] = stroke_group_bmi_mean\n",
    "sdf.loc[(sdf[\"stroke\"] == 0) & (sdf[\"bmi\"].isna()), \"bmi\"] = non_stroke_group_bmi_mean"
   ]
  },
  {
   "cell_type": "markdown",
   "metadata": {},
   "source": [
    "##### Gender\n",
    "\n",
    "We dropped \"Other\" category of gender from our observations as our classifier is not trained for that category of information."
   ]
  },
  {
   "cell_type": "code",
   "execution_count": 111,
   "metadata": {},
   "outputs": [],
   "source": [
    "# we drop \"Other\" category of gender rows from dataset as our model is not trained for that category\n",
    "to_drop = list(sdf[sdf[\"gender\"]==\"Other\"].index)\n",
    "sdf.drop(to_drop, axis=0, inplace=True)"
   ]
  },
  {
   "cell_type": "code",
   "execution_count": 112,
   "metadata": {},
   "outputs": [],
   "source": [
    "# we create dummies and save them back\n",
    "sdf[\"gender\"] = sdf[\"gender\"].apply(lambda x: 1 if x == \"Male\" else 0)\n",
    "sdf[\"ever_married\"] = sdf[\"ever_married\"].apply(lambda x: 1 if x == \"Yes\" else 0)\n",
    "sdf[\"Residence_type\"] = sdf[\"Residence_type\"].apply(lambda x: 1 if x == \"Urban\" else 0)"
   ]
  },
  {
   "cell_type": "markdown",
   "metadata": {},
   "source": [
    "##### High Blood Sugar\n",
    "\n",
    "We created a new feature which classifies anyone with an average blood sugar level of 140 and above as high blood sugar.\n",
    "\n",
    "According to [Source](https://www.singlecare.com/blog/normal-blood-glucose-levels/) :\n",
    "\n",
    "Normal blood sugar range for adults is 100-180 mg/dL so we take the average (140) and classify anyone higher as 1 else 0."
   ]
  },
  {
   "cell_type": "code",
   "execution_count": 113,
   "metadata": {},
   "outputs": [],
   "source": [
    "# we create a column to classify high blood sugar from average glucose level\n",
    "sdf[\"high_blood_sugar\"] = sdf[\"avg_glucose_level\"].apply(lambda x: 1 if x >= 140 else 0)"
   ]
  },
  {
   "cell_type": "markdown",
   "metadata": {},
   "source": [
    "Next, we classify with our Heart Risk Classifier and proceed to balancing our dataset before Modelling."
   ]
  },
  {
   "cell_type": "code",
   "execution_count": 114,
   "metadata": {},
   "outputs": [],
   "source": [
    "# we drop the features with redundant data or if we dont have that information in our assam health survey dataset\n",
    "sdf.drop([\"smoking_status\", \"work_type\", \"heart_disease\"], axis=1, inplace=True)"
   ]
  },
  {
   "cell_type": "code",
   "execution_count": 115,
   "metadata": {},
   "outputs": [],
   "source": [
    "# we prepare a dataset to feed into our Heart Disease Risk Classifier Model\n",
    "testdf = sdf[[\"age\", \"gender\", \"high_blood_sugar\", \"hypertension\"]]\n",
    "testdf.columns = [\"Age\",\"Sex\",\"FastingBS\",\"hypertension\"]"
   ]
  },
  {
   "cell_type": "code",
   "execution_count": 116,
   "metadata": {},
   "outputs": [],
   "source": [
    "# we use our Heart Risk classifier scaler to transform our testdf\n",
    "tdf_scaled = scaler.transform(testdf)"
   ]
  },
  {
   "cell_type": "code",
   "execution_count": 117,
   "metadata": {},
   "outputs": [],
   "source": [
    "# we predict with the heart risk classifier and merge the prediction to main dataframe\n",
    "pred = heart_model.predict(tdf_scaled)\n",
    "sdf[\"high_risk_heart_disease\"] = pred"
   ]
  },
  {
   "cell_type": "code",
   "execution_count": 118,
   "metadata": {},
   "outputs": [
    {
     "data": {
      "text/plain": [
       "stroke                     1.000000\n",
       "age                        0.147273\n",
       "avg_glucose_level          0.070901\n",
       "high_blood_sugar           0.070342\n",
       "high_risk_heart_disease    0.066270\n",
       "hypertension               0.055606\n",
       "gender                     0.015528\n",
       "ever_married               0.008671\n",
       "Residence_type             0.002698\n",
       "id                         0.002211\n",
       "bmi                       -0.011013\n",
       "dtype: float64"
      ]
     },
     "execution_count": 118,
     "metadata": {},
     "output_type": "execute_result"
    }
   ],
   "source": [
    "# we check the correlation of the features with our target variable\n",
    "sdf.corrwith(sdf[\"stroke\"]).sort_values(ascending=False)"
   ]
  },
  {
   "cell_type": "code",
   "execution_count": 119,
   "metadata": {},
   "outputs": [],
   "source": [
    "# we drop non relevant columns\n",
    "sdf.drop([\"avg_glucose_level\", \"id\"], axis=1, inplace=True)"
   ]
  },
  {
   "cell_type": "markdown",
   "metadata": {},
   "source": [
    "#### **Modelling**"
   ]
  },
  {
   "cell_type": "markdown",
   "metadata": {},
   "source": [
    "We check the proportion of Minority class before applying corrective measures."
   ]
  },
  {
   "cell_type": "code",
   "execution_count": 120,
   "metadata": {},
   "outputs": [
    {
     "name": "stdout",
     "output_type": "stream",
     "text": [
      "Observations of Class 0: 28094\n",
      "Observations of Class 1: 700\n",
      "Proportion of Minority Class: 2.43 percent\n"
     ]
    }
   ],
   "source": [
    "# we see that our dataset is extremely imbalanced so we will try to apply SMOTE to balance our dataset before fitting to model\n",
    "vcount = sdf.stroke.value_counts()\n",
    "print(\"Observations of Class 0:\", vcount[0])\n",
    "print(\"Observations of Class 1:\", vcount[1])\n",
    "print(\"Proportion of Minority Class:\", str(np.round((vcount[1] / (vcount[0] + vcount[1]))*100, 2)) + \" percent\")"
   ]
  },
  {
   "cell_type": "code",
   "execution_count": 121,
   "metadata": {},
   "outputs": [],
   "source": [
    "# we import the required libraries for our ML process\n",
    "from sklearn.model_selection import RepeatedStratifiedKFold\n",
    "from sklearn.model_selection import GridSearchCV\n",
    "from sklearn.metrics import confusion_matrix"
   ]
  },
  {
   "cell_type": "code",
   "execution_count": 122,
   "metadata": {},
   "outputs": [],
   "source": [
    "# we scale our dataset for ML model\n",
    "scaler1 = StandardScaler()\n",
    "X_scaled = scaler1.fit_transform(sdf.drop(columns=[\"stroke\"]))\n",
    "y = sdf[\"stroke\"]"
   ]
  },
  {
   "cell_type": "code",
   "execution_count": 123,
   "metadata": {},
   "outputs": [],
   "source": [
    "# we split and create the training and testing set\n",
    "X_train, X_test, y_train, y_test = train_test_split(X_scaled, y, test_size=0.2, random_state=45, stratify=y)"
   ]
  },
  {
   "cell_type": "markdown",
   "metadata": {},
   "source": [
    "##### SMOTE ( Synthetic Minority Over-Sampling Technique )\n",
    "\n",
    "With the objective of balancing our Dataset we imported SMOTE from Imbalanced-learn ( imported as imblearn ) library in Python.\n",
    "\n",
    "SMOTE is a widely used technique that works by selecting examples that are close in the feature space, drawing a line between the examples in the feature space and drawing a new sample at a point along that line."
   ]
  },
  {
   "cell_type": "code",
   "execution_count": 124,
   "metadata": {},
   "outputs": [
    {
     "name": "stdout",
     "output_type": "stream",
     "text": [
      "Observations of Class 0: 22475\n",
      "Observations of Class 1: 22475\n",
      "Proportion of Minority Class: 50.0 percent\n"
     ]
    }
   ],
   "source": [
    "# we apply SMOTE to balance our training set and we see that we have now a balanced number of observations from each class\n",
    "from imblearn.over_sampling import SMOTE\n",
    "sm = SMOTE(random_state=45, k_neighbors=10)\n",
    "X_res, y_res = sm.fit_resample(X_train, y_train)\n",
    "y_res.value_counts()\n",
    "vcount = y_res.value_counts()\n",
    "print(\"Observations of Class 0:\", vcount[0])\n",
    "print(\"Observations of Class 1:\", vcount[1])\n",
    "print(\"Proportion of Minority Class:\", str(np.round((vcount[1] / (vcount[0] + vcount[1]))*100, 2)) + \" percent\")"
   ]
  },
  {
   "cell_type": "markdown",
   "metadata": {},
   "source": [
    "After application of SMOTE on our training set, we see that we have a balanced number of observations from each class."
   ]
  },
  {
   "cell_type": "markdown",
   "metadata": {},
   "source": [
    "##### Model Selection\n",
    "\n",
    "Next, we decided to use Logistic Regression to build our classifier model because our dataset is quite simple and Logistic Regression is easier to implement, interpret, and very efficient to train. Also, since it is very fast at classifying unknown records, it will come in very handy when classifying our Assam Health Survey Dataset which has a higher number of observations.\n",
    "\n",
    "We fit our training data on the default Logistic Regression and evaluated the performance on the testing set."
   ]
  },
  {
   "cell_type": "code",
   "execution_count": 125,
   "metadata": {},
   "outputs": [
    {
     "name": "stdout",
     "output_type": "stream",
     "text": [
      "              precision    recall  f1-score   support\n",
      "\n",
      "           0       0.99      0.69      0.81      5619\n",
      "           1       0.06      0.75      0.10       140\n",
      "\n",
      "    accuracy                           0.69      5759\n",
      "   macro avg       0.52      0.72      0.46      5759\n",
      "weighted avg       0.97      0.69      0.79      5759\n",
      "\n"
     ]
    }
   ],
   "source": [
    "# we fit the data on a base model and evaluate performance\n",
    "from sklearn.linear_model import LogisticRegression\n",
    "lr_model = LogisticRegression()\n",
    "lr_model.fit(X_res, y_res)\n",
    "print(classification_report(y_test, lr_model.predict(X_test)))"
   ]
  },
  {
   "cell_type": "markdown",
   "metadata": {},
   "source": [
    "We see that although our precision is low, we have a pretty good score for recall (detection) for our minority class which is what matters most in our case. \n",
    "\n",
    "In simpler words, we were able to detect 75% of our minority class in an extremely imbalanced dataset. Lower precision means that yes, we also misclassified some data from majority class as minority class but that is something to be dealt ahead later."
   ]
  },
  {
   "cell_type": "markdown",
   "metadata": {},
   "source": [
    "We also perform a Grid Search to find the optimal solver and C values for our Logistic Regression. Then we evaluate the performance with the optimal hyper-parameters."
   ]
  },
  {
   "cell_type": "code",
   "execution_count": 126,
   "metadata": {},
   "outputs": [
    {
     "data": {
      "text/plain": [
       "GridSearchCV(cv=RepeatedStratifiedKFold(n_repeats=3, n_splits=10, random_state=1),\n",
       "             error_score='raise', estimator=LogisticRegression(), n_jobs=-1,\n",
       "             param_grid={'C': [1.0, 0.5, 0.1],\n",
       "                         'solver': ['newton-cg', 'lbfgs', 'liblinear']},\n",
       "             scoring='accuracy')"
      ]
     },
     "execution_count": 126,
     "metadata": {},
     "output_type": "execute_result"
    }
   ],
   "source": [
    "# we perform a grid search to find optimal solver and C values\n",
    "parameters = {\n",
    "    \"solver\" : ['newton-cg', 'lbfgs', 'liblinear'],\n",
    "    \"C\" : [1.0, 0.5, 0.1]\n",
    "}\n",
    "cv = RepeatedStratifiedKFold(n_splits=10, n_repeats=3, random_state=1)\n",
    "clf = GridSearchCV(estimator=LogisticRegression(penalty='l2'), param_grid=parameters, scoring='accuracy', cv=cv, n_jobs=-1, error_score='raise')\n",
    "clf.fit(X_res, y_res)"
   ]
  },
  {
   "cell_type": "code",
   "execution_count": 127,
   "metadata": {},
   "outputs": [
    {
     "name": "stdout",
     "output_type": "stream",
     "text": [
      "              precision    recall  f1-score   support\n",
      "\n",
      "           0       0.99      0.69      0.81      5619\n",
      "           1       0.06      0.75      0.10       140\n",
      "\n",
      "    accuracy                           0.69      5759\n",
      "   macro avg       0.52      0.72      0.46      5759\n",
      "weighted avg       0.97      0.69      0.79      5759\n",
      "\n"
     ]
    }
   ],
   "source": [
    "# we print out a classification report and evaluate detection rate ( recall )\n",
    "clf.best_estimator_.fit(X_res, y_res)\n",
    "print(classification_report(y_test, clf.best_estimator_.predict(X_test)))"
   ]
  },
  {
   "cell_type": "markdown",
   "metadata": {},
   "source": [
    "\n",
    "We see that there is no major improvement in performance. We plot a Confusion Matrix to evaluate the classification visually."
   ]
  },
  {
   "cell_type": "code",
   "execution_count": 128,
   "metadata": {},
   "outputs": [
    {
     "data": {
      "image/png": "[encoded data removed]",
      "text/plain": [
       "<Figure size 720x576 with 2 Axes>"
      ]
     },
     "metadata": {},
     "output_type": "display_data"
    }
   ],
   "source": [
    "# we plot a confusion matrix to evaluate visually\n",
    "ax = sns.heatmap(confusion_matrix(y_test, clf.best_estimator_.predict(X_test)), annot=True, fmt=\"d\")\n",
    "ax.set_xlabel(\"Predicted\")\n",
    "ax.set_ylabel(\"True\")\n",
    "ax.set_title(\"Confusion Matrix\")\n",
    "plt.show()"
   ]
  },
  {
   "cell_type": "markdown",
   "metadata": {},
   "source": [
    "We see that out of 140 observations of minority class, we were able to detect 105 of them successfully. We found the performance satisfactory and thus decided to save it to use when classifying our Assam Health Survey dataset."
   ]
  },
  {
   "cell_type": "code",
   "execution_count": 129,
   "metadata": {},
   "outputs": [
    {
     "data": {
      "text/plain": [
       "LogisticRegression(C=0.1, solver='liblinear')"
      ]
     },
     "execution_count": 129,
     "metadata": {},
     "output_type": "execute_result"
    }
   ],
   "source": [
    "# we see satisfactory performance of our classifier especially in recall(detection) so we save this classifier to use later while working on Assam Health Survey Dataset\n",
    "stroke_model = clf.best_estimator_\n",
    "stroke_model.fit(X_res, y_res)"
   ]
  },
  {
   "cell_type": "markdown",
   "metadata": {},
   "source": [
    "#### **Assam Health Survey Dataset**"
   ]
  },
  {
   "cell_type": "markdown",
   "metadata": {},
   "source": [
    "This dataset is very dirty from the get-go as expected since it was downloaded from the official government website of open data. \n",
    "It has a total of 142838 observations from 23 districts of Assam and has a lot of missing, corrupt and irregular information in the dataset that we will need to look out for while working.\n",
    "\n",
    "All the Assam Health Survey Data are sourced from https://data.gov.in which is the Open Government Data (OGD) Platform of India. The datasets were downloaded with consent from the website which was provided through a form. \n",
    "\n",
    "We received 23 datasets for the following 23 districts of Assam:\n",
    "\n",
    "1. Jorhat\n",
    "2. Nagaon\n",
    "3. Golaghat\n",
    "4. Kamrup\n",
    "5. Sibsagar\n",
    "6. Bongaigaon\n",
    "7. Hailakandi\n",
    "8. Cachar\n",
    "9. Barpeta\n",
    "10. Goalpara\n",
    "11. Karimganj\n",
    "12. Tinsukia\n",
    "13. Dhubri\n",
    "14. Dhemaji\n",
    "15. Dibrugarh\n",
    "16. Karbi Anglong\n",
    "17. Darrang\n",
    "18. North Cachar Hills\n",
    "19. Kokrajhar\n",
    "20. Lakhimpur\n",
    "21. Nalbari\n",
    "22. Marigaon\n",
    "23. Sonitpur\n",
    "\n",
    "The datasets came with the following 53 features:\n",
    "1. state_code\n",
    "2. district_code\n",
    "3. rural_urban\n",
    "4. stratum\n",
    "5. PSU_ID\n",
    "6. ahs_house_unit\n",
    "7. house_hold_no\n",
    "8. date_survey\n",
    "9. test_salt_iodine\n",
    "10. record_code_iodine\n",
    "11. record_code_iodine_reason\n",
    "12. sl_no\n",
    "13. Sex\n",
    "14. usual_residance\n",
    "15. usual_residance_Reason\n",
    "16. identification_code\n",
    "17. Age_Code\n",
    "18. Age\n",
    "19. date_of_birth\n",
    "20. month_of_birth\n",
    "21. year_of_birth\n",
    "22. Weight_measured\n",
    "23. Weight_in_kg\n",
    "24. Length_height_measured\n",
    "25. length_height_code\n",
    "26. Length_height_cm\n",
    "27. Haemoglobin_test\n",
    "28. Haemoglobin\n",
    "29. Haemoglobin_level\n",
    "30. BP_systolic\n",
    "31. BP_systolic_2_reading\n",
    "32. BP_Diastolic\n",
    "33. BP_Diastolic_2reading\n",
    "34. Pulse_rate\n",
    "35. Pulse_rate_2_reading\n",
    "36. Diabetes_test\n",
    "37. fasting_blood_glucose\n",
    "38. fasting_blood_glucose_mg_dl\n",
    "39. Marital_status\n",
    "40. gauna_perfor_not_perfor\n",
    "41. duration_pregnanacy\n",
    "42. first_breast_feeding\n",
    "43. is_cur_breast_feeding\n",
    "44. day_or_mn_for_breast_feeding_cd\n",
    "45. day_or_month_for_breast_feeding\n",
    "46. water_month\n",
    "47. ani_milk_month\n",
    "48. semisolid_month_or_day\n",
    "49. solid_month\n",
    "50. vegetables_month_or_day\n",
    "51. illness_type\n",
    "52. illness_duration\n",
    "53. treatment_type"
   ]
  },
  {
   "cell_type": "code",
   "execution_count": 130,
   "metadata": {},
   "outputs": [
    {
     "data": {
      "text/html": [
       "<div>\n",
       "<style scoped>\n",
       "    .dataframe tbody tr th:only-of-type {\n",
       "        vertical-align: middle;\n",
       "    }\n",
       "\n",
       "    .dataframe tbody tr th {\n",
       "        vertical-align: top;\n",
       "    }\n",
       "\n",
       "    .dataframe thead th {\n",
       "        text-align: right;\n",
       "    }\n",
       "</style>\n",
       "<table border=\"1\" class=\"dataframe\">\n",
       "  <thead>\n",
       "    <tr style=\"text-align: right;\">\n",
       "      <th></th>\n",
       "      <th>state_code</th>\n",
       "      <th>district_code</th>\n",
       "      <th>rural_urban</th>\n",
       "      <th>stratum</th>\n",
       "      <th>PSU_ID</th>\n",
       "      <th>ahs_house_unit</th>\n",
       "      <th>house_hold_no</th>\n",
       "      <th>date_survey</th>\n",
       "      <th>test_salt_iodine</th>\n",
       "      <th>record_code_iodine</th>\n",
       "      <th>...</th>\n",
       "      <th>day_or_mn_for_breast_feeding_cd</th>\n",
       "      <th>day_or_month_for_breast_feeding</th>\n",
       "      <th>water_month</th>\n",
       "      <th>ani_milk_month</th>\n",
       "      <th>semisolid_month_or_day</th>\n",
       "      <th>solid_month</th>\n",
       "      <th>vegetables_month_or_day</th>\n",
       "      <th>illness_type</th>\n",
       "      <th>illness_duration</th>\n",
       "      <th>treatment_type</th>\n",
       "    </tr>\n",
       "  </thead>\n",
       "  <tbody>\n",
       "    <tr>\n",
       "      <th>14260</th>\n",
       "      <td>ASSAM</td>\n",
       "      <td>CACHAR</td>\n",
       "      <td>Rural</td>\n",
       "      <td>population&gt;=2000</td>\n",
       "      <td>1054676</td>\n",
       "      <td>50</td>\n",
       "      <td>1</td>\n",
       "      <td>13-03-14</td>\n",
       "      <td>7</td>\n",
       "      <td>Less than 15 PPM</td>\n",
       "      <td>...</td>\n",
       "      <td>NaN</td>\n",
       "      <td>NaN</td>\n",
       "      <td>NaN</td>\n",
       "      <td>NaN</td>\n",
       "      <td>NaN</td>\n",
       "      <td>NaN</td>\n",
       "      <td>NaN</td>\n",
       "      <td>NaN</td>\n",
       "      <td>NaN</td>\n",
       "      <td>NaN</td>\n",
       "    </tr>\n",
       "    <tr>\n",
       "      <th>109945</th>\n",
       "      <td>ASSAM</td>\n",
       "      <td>NAGAON</td>\n",
       "      <td>Rural</td>\n",
       "      <td>population&gt;=2000</td>\n",
       "      <td>1002348</td>\n",
       "      <td>97</td>\n",
       "      <td>1</td>\n",
       "      <td>23-12-13</td>\n",
       "      <td>7</td>\n",
       "      <td>Less than 15 PPM</td>\n",
       "      <td>...</td>\n",
       "      <td>NaN</td>\n",
       "      <td>NaN</td>\n",
       "      <td>NaN</td>\n",
       "      <td>NaN</td>\n",
       "      <td>NaN</td>\n",
       "      <td>NaN</td>\n",
       "      <td>NaN</td>\n",
       "      <td>NaN</td>\n",
       "      <td>NaN</td>\n",
       "      <td>NaN</td>\n",
       "    </tr>\n",
       "    <tr>\n",
       "      <th>60960</th>\n",
       "      <td>ASSAM</td>\n",
       "      <td>HAILAKANDI</td>\n",
       "      <td>Rural</td>\n",
       "      <td>200&lt;population&lt;2000</td>\n",
       "      <td>1072032</td>\n",
       "      <td>15</td>\n",
       "      <td>1</td>\n",
       "      <td>02-08-14</td>\n",
       "      <td>30</td>\n",
       "      <td>More than or equal to 15 PPM</td>\n",
       "      <td>...</td>\n",
       "      <td>NaN</td>\n",
       "      <td>NaN</td>\n",
       "      <td>NaN</td>\n",
       "      <td>NaN</td>\n",
       "      <td>NaN</td>\n",
       "      <td>NaN</td>\n",
       "      <td>NaN</td>\n",
       "      <td>NaN</td>\n",
       "      <td>NaN</td>\n",
       "      <td>NaN</td>\n",
       "    </tr>\n",
       "    <tr>\n",
       "      <th>94263</th>\n",
       "      <td>ASSAM</td>\n",
       "      <td>KOKRAJHAR</td>\n",
       "      <td>Rural</td>\n",
       "      <td>200&lt;population&lt;2000</td>\n",
       "      <td>1077936</td>\n",
       "      <td>180</td>\n",
       "      <td>1</td>\n",
       "      <td>12-03-14</td>\n",
       "      <td>30</td>\n",
       "      <td>More than or equal to 15 PPM</td>\n",
       "      <td>...</td>\n",
       "      <td>NaN</td>\n",
       "      <td>NaN</td>\n",
       "      <td>NaN</td>\n",
       "      <td>NaN</td>\n",
       "      <td>NaN</td>\n",
       "      <td>NaN</td>\n",
       "      <td>NaN</td>\n",
       "      <td>NaN</td>\n",
       "      <td>NaN</td>\n",
       "      <td>NaN</td>\n",
       "    </tr>\n",
       "    <tr>\n",
       "      <th>86508</th>\n",
       "      <td>ASSAM</td>\n",
       "      <td>KARIMGANJ</td>\n",
       "      <td>Rural</td>\n",
       "      <td>200&lt;population&lt;2000</td>\n",
       "      <td>1062191</td>\n",
       "      <td>148</td>\n",
       "      <td>2</td>\n",
       "      <td>16-06-14</td>\n",
       "      <td>30</td>\n",
       "      <td>More than or equal to 15 PPM</td>\n",
       "      <td>...</td>\n",
       "      <td>NaN</td>\n",
       "      <td>NaN</td>\n",
       "      <td>NaN</td>\n",
       "      <td>NaN</td>\n",
       "      <td>NaN</td>\n",
       "      <td>NaN</td>\n",
       "      <td>NaN</td>\n",
       "      <td>NaN</td>\n",
       "      <td>NaN</td>\n",
       "      <td>NaN</td>\n",
       "    </tr>\n",
       "  </tbody>\n",
       "</table>\n",
       "<p>5 rows × 53 columns</p>\n",
       "</div>"
      ],
      "text/plain": [
       "       state_code district_code rural_urban              stratum   PSU_ID  \\\n",
       "14260       ASSAM        CACHAR       Rural     population>=2000  1054676   \n",
       "109945      ASSAM        NAGAON       Rural     population>=2000  1002348   \n",
       "60960       ASSAM    HAILAKANDI       Rural  200<population<2000  1072032   \n",
       "94263       ASSAM     KOKRAJHAR       Rural  200<population<2000  1077936   \n",
       "86508       ASSAM     KARIMGANJ       Rural  200<population<2000  1062191   \n",
       "\n",
       "        ahs_house_unit  house_hold_no date_survey  test_salt_iodine  \\\n",
       "14260               50              1    13-03-14                 7   \n",
       "109945              97              1    23-12-13                 7   \n",
       "60960               15              1    02-08-14                30   \n",
       "94263              180              1    12-03-14                30   \n",
       "86508              148              2    16-06-14                30   \n",
       "\n",
       "                  record_code_iodine  ... day_or_mn_for_breast_feeding_cd  \\\n",
       "14260               Less than 15 PPM  ...                             NaN   \n",
       "109945              Less than 15 PPM  ...                             NaN   \n",
       "60960   More than or equal to 15 PPM  ...                             NaN   \n",
       "94263   More than or equal to 15 PPM  ...                             NaN   \n",
       "86508   More than or equal to 15 PPM  ...                             NaN   \n",
       "\n",
       "        day_or_month_for_breast_feeding water_month ani_milk_month  \\\n",
       "14260                               NaN         NaN            NaN   \n",
       "109945                              NaN         NaN            NaN   \n",
       "60960                               NaN         NaN            NaN   \n",
       "94263                               NaN         NaN            NaN   \n",
       "86508                               NaN         NaN            NaN   \n",
       "\n",
       "       semisolid_month_or_day  solid_month vegetables_month_or_day  \\\n",
       "14260                     NaN          NaN                     NaN   \n",
       "109945                    NaN          NaN                     NaN   \n",
       "60960                     NaN          NaN                     NaN   \n",
       "94263                     NaN          NaN                     NaN   \n",
       "86508                     NaN          NaN                     NaN   \n",
       "\n",
       "        illness_type  illness_duration  treatment_type  \n",
       "14260            NaN               NaN             NaN  \n",
       "109945           NaN               NaN             NaN  \n",
       "60960            NaN               NaN             NaN  \n",
       "94263            NaN               NaN             NaN  \n",
       "86508            NaN               NaN             NaN  \n",
       "\n",
       "[5 rows x 53 columns]"
      ]
     },
     "execution_count": 130,
     "metadata": {},
     "output_type": "execute_result"
    }
   ],
   "source": [
    "# we search for all csv files of each districts from the folder and concat them together into one dataframe\n",
    "import glob\n",
    "import os\n",
    "path = \"districts_health_survey_raw\"\n",
    "all_files = glob.glob(os.path.join(path, \"*.csv\"))\n",
    "\n",
    "df_from_each_file = (pd.read_csv(f) for f in all_files)\n",
    "df = pd.concat(df_from_each_file, ignore_index=True)\n",
    "df.sample(5)"
   ]
  },
  {
   "cell_type": "markdown",
   "metadata": {},
   "source": [
    "##### Univariate Stats First Glance\n",
    "\n",
    "After concatenating all the 23 datasets, we get the following Univariate Stats for all features."
   ]
  },
  {
   "cell_type": "code",
   "execution_count": 131,
   "metadata": {},
   "outputs": [
    {
     "data": {
      "text/html": [
       "<div>\n",
       "<style scoped>\n",
       "    .dataframe tbody tr th:only-of-type {\n",
       "        vertical-align: middle;\n",
       "    }\n",
       "\n",
       "    .dataframe tbody tr th {\n",
       "        vertical-align: top;\n",
       "    }\n",
       "\n",
       "    .dataframe thead th {\n",
       "        text-align: right;\n",
       "    }\n",
       "</style>\n",
       "<table border=\"1\" class=\"dataframe\">\n",
       "  <thead>\n",
       "    <tr style=\"text-align: right;\">\n",
       "      <th></th>\n",
       "      <th>Dtype</th>\n",
       "      <th>Numeric</th>\n",
       "      <th>Count</th>\n",
       "      <th>Missing</th>\n",
       "      <th>Unique</th>\n",
       "      <th>Mode</th>\n",
       "      <th>Mean</th>\n",
       "      <th>Min</th>\n",
       "      <th>25%</th>\n",
       "      <th>Median</th>\n",
       "      <th>75%</th>\n",
       "      <th>Max</th>\n",
       "      <th>Std</th>\n",
       "      <th>Skew</th>\n",
       "      <th>Kurt</th>\n",
       "    </tr>\n",
       "  </thead>\n",
       "  <tbody>\n",
       "    <tr>\n",
       "      <th>sl_no</th>\n",
       "      <td>int64</td>\n",
       "      <td>True</td>\n",
       "      <td>142838</td>\n",
       "      <td>0</td>\n",
       "      <td>30</td>\n",
       "      <td>1</td>\n",
       "      <td>3.1</td>\n",
       "      <td>0</td>\n",
       "      <td>2.0</td>\n",
       "      <td>3.0</td>\n",
       "      <td>4.0</td>\n",
       "      <td>999</td>\n",
       "      <td>3.28</td>\n",
       "      <td>197.67</td>\n",
       "      <td>59812.87</td>\n",
       "    </tr>\n",
       "    <tr>\n",
       "      <th>Weight_in_kg</th>\n",
       "      <td>float64</td>\n",
       "      <td>True</td>\n",
       "      <td>117163</td>\n",
       "      <td>25675</td>\n",
       "      <td>1027</td>\n",
       "      <td>50.099998</td>\n",
       "      <td>42.58</td>\n",
       "      <td>0.5</td>\n",
       "      <td>32.099998</td>\n",
       "      <td>46.200001</td>\n",
       "      <td>53.700001</td>\n",
       "      <td>6602.0</td>\n",
       "      <td>25.39</td>\n",
       "      <td>147.04</td>\n",
       "      <td>37996.71</td>\n",
       "    </tr>\n",
       "    <tr>\n",
       "      <th>illness_duration</th>\n",
       "      <td>float64</td>\n",
       "      <td>True</td>\n",
       "      <td>1037</td>\n",
       "      <td>141801</td>\n",
       "      <td>18</td>\n",
       "      <td>2.0</td>\n",
       "      <td>2.96</td>\n",
       "      <td>0.0</td>\n",
       "      <td>0.0</td>\n",
       "      <td>2.0</td>\n",
       "      <td>3.0</td>\n",
       "      <td>365.0</td>\n",
       "      <td>12.11</td>\n",
       "      <td>26.76</td>\n",
       "      <td>780.8</td>\n",
       "    </tr>\n",
       "    <tr>\n",
       "      <th>identification_code</th>\n",
       "      <td>float64</td>\n",
       "      <td>True</td>\n",
       "      <td>142592</td>\n",
       "      <td>246</td>\n",
       "      <td>4573</td>\n",
       "      <td>2.0</td>\n",
       "      <td>991.58</td>\n",
       "      <td>0.0</td>\n",
       "      <td>322.0</td>\n",
       "      <td>711.0</td>\n",
       "      <td>1247.0</td>\n",
       "      <td>99999.0</td>\n",
       "      <td>2888.68</td>\n",
       "      <td>24.78</td>\n",
       "      <td>693.32</td>\n",
       "    </tr>\n",
       "    <tr>\n",
       "      <th>house_hold_no</th>\n",
       "      <td>int64</td>\n",
       "      <td>True</td>\n",
       "      <td>142838</td>\n",
       "      <td>0</td>\n",
       "      <td>57</td>\n",
       "      <td>1</td>\n",
       "      <td>1.3</td>\n",
       "      <td>0</td>\n",
       "      <td>1.0</td>\n",
       "      <td>1.0</td>\n",
       "      <td>1.0</td>\n",
       "      <td>99</td>\n",
       "      <td>2.0</td>\n",
       "      <td>21.19</td>\n",
       "      <td>637.59</td>\n",
       "    </tr>\n",
       "    <tr>\n",
       "      <th>ahs_house_unit</th>\n",
       "      <td>int64</td>\n",
       "      <td>True</td>\n",
       "      <td>142838</td>\n",
       "      <td>0</td>\n",
       "      <td>954</td>\n",
       "      <td>1</td>\n",
       "      <td>185.48</td>\n",
       "      <td>1</td>\n",
       "      <td>67.0</td>\n",
       "      <td>148.0</td>\n",
       "      <td>264.0</td>\n",
       "      <td>9111</td>\n",
       "      <td>169.7</td>\n",
       "      <td>8.22</td>\n",
       "      <td>322.4</td>\n",
       "    </tr>\n",
       "    <tr>\n",
       "      <th>day_or_month_for_breast_feeding</th>\n",
       "      <td>float64</td>\n",
       "      <td>True</td>\n",
       "      <td>4428</td>\n",
       "      <td>138410</td>\n",
       "      <td>29</td>\n",
       "      <td>6.0</td>\n",
       "      <td>4.75</td>\n",
       "      <td>0.0</td>\n",
       "      <td>4.0</td>\n",
       "      <td>5.0</td>\n",
       "      <td>6.0</td>\n",
       "      <td>79.0</td>\n",
       "      <td>2.55</td>\n",
       "      <td>7.64</td>\n",
       "      <td>177.82</td>\n",
       "    </tr>\n",
       "    <tr>\n",
       "      <th>fasting_blood_glucose_mg_dl</th>\n",
       "      <td>float64</td>\n",
       "      <td>True</td>\n",
       "      <td>72166</td>\n",
       "      <td>70672</td>\n",
       "      <td>287</td>\n",
       "      <td>98.0</td>\n",
       "      <td>98.31</td>\n",
       "      <td>50.0</td>\n",
       "      <td>90.0</td>\n",
       "      <td>97.0</td>\n",
       "      <td>103.0</td>\n",
       "      <td>400.0</td>\n",
       "      <td>19.34</td>\n",
       "      <td>5.06</td>\n",
       "      <td>48.43</td>\n",
       "    </tr>\n",
       "    <tr>\n",
       "      <th>water_month</th>\n",
       "      <td>float64</td>\n",
       "      <td>True</td>\n",
       "      <td>4413</td>\n",
       "      <td>138425</td>\n",
       "      <td>15</td>\n",
       "      <td>6.0</td>\n",
       "      <td>4.86</td>\n",
       "      <td>0.0</td>\n",
       "      <td>4.0</td>\n",
       "      <td>6.0</td>\n",
       "      <td>7.0</td>\n",
       "      <td>73.0</td>\n",
       "      <td>2.69</td>\n",
       "      <td>2.95</td>\n",
       "      <td>92.63</td>\n",
       "    </tr>\n",
       "    <tr>\n",
       "      <th>ani_milk_month</th>\n",
       "      <td>float64</td>\n",
       "      <td>True</td>\n",
       "      <td>4412</td>\n",
       "      <td>138426</td>\n",
       "      <td>16</td>\n",
       "      <td>7.0</td>\n",
       "      <td>5.08</td>\n",
       "      <td>0.0</td>\n",
       "      <td>4.0</td>\n",
       "      <td>6.0</td>\n",
       "      <td>7.0</td>\n",
       "      <td>70.0</td>\n",
       "      <td>3.08</td>\n",
       "      <td>1.62</td>\n",
       "      <td>44.44</td>\n",
       "    </tr>\n",
       "    <tr>\n",
       "      <th>date_of_birth</th>\n",
       "      <td>int64</td>\n",
       "      <td>True</td>\n",
       "      <td>142838</td>\n",
       "      <td>0</td>\n",
       "      <td>32</td>\n",
       "      <td>1</td>\n",
       "      <td>5.8</td>\n",
       "      <td>0</td>\n",
       "      <td>0.0</td>\n",
       "      <td>1.0</td>\n",
       "      <td>10.0</td>\n",
       "      <td>31</td>\n",
       "      <td>8.63</td>\n",
       "      <td>1.45</td>\n",
       "      <td>0.8</td>\n",
       "    </tr>\n",
       "    <tr>\n",
       "      <th>month_of_birth</th>\n",
       "      <td>int64</td>\n",
       "      <td>True</td>\n",
       "      <td>142838</td>\n",
       "      <td>0</td>\n",
       "      <td>13</td>\n",
       "      <td>1</td>\n",
       "      <td>3.32</td>\n",
       "      <td>0</td>\n",
       "      <td>1.0</td>\n",
       "      <td>1.0</td>\n",
       "      <td>6.0</td>\n",
       "      <td>12</td>\n",
       "      <td>3.82</td>\n",
       "      <td>1.02</td>\n",
       "      <td>-0.4</td>\n",
       "    </tr>\n",
       "    <tr>\n",
       "      <th>Length_height_cm</th>\n",
       "      <td>float64</td>\n",
       "      <td>True</td>\n",
       "      <td>117125</td>\n",
       "      <td>25713</td>\n",
       "      <td>1434</td>\n",
       "      <td>150.0</td>\n",
       "      <td>144.66</td>\n",
       "      <td>45.5</td>\n",
       "      <td>140.0</td>\n",
       "      <td>151.3</td>\n",
       "      <td>159.7</td>\n",
       "      <td>1699.0</td>\n",
       "      <td>23.51</td>\n",
       "      <td>1.0</td>\n",
       "      <td>164.86</td>\n",
       "    </tr>\n",
       "    <tr>\n",
       "      <th>BP_systolic_2_reading</th>\n",
       "      <td>float64</td>\n",
       "      <td>True</td>\n",
       "      <td>77018</td>\n",
       "      <td>65820</td>\n",
       "      <td>168</td>\n",
       "      <td>120.0</td>\n",
       "      <td>123.38</td>\n",
       "      <td>60.0</td>\n",
       "      <td>112.0</td>\n",
       "      <td>121.0</td>\n",
       "      <td>132.0</td>\n",
       "      <td>249.0</td>\n",
       "      <td>17.67</td>\n",
       "      <td>0.87</td>\n",
       "      <td>2.03</td>\n",
       "    </tr>\n",
       "    <tr>\n",
       "      <th>BP_systolic</th>\n",
       "      <td>float64</td>\n",
       "      <td>True</td>\n",
       "      <td>77057</td>\n",
       "      <td>65781</td>\n",
       "      <td>165</td>\n",
       "      <td>120.0</td>\n",
       "      <td>126.56</td>\n",
       "      <td>61.0</td>\n",
       "      <td>115.0</td>\n",
       "      <td>125.0</td>\n",
       "      <td>136.0</td>\n",
       "      <td>249.0</td>\n",
       "      <td>18.11</td>\n",
       "      <td>0.83</td>\n",
       "      <td>1.69</td>\n",
       "    </tr>\n",
       "    <tr>\n",
       "      <th>Age</th>\n",
       "      <td>float64</td>\n",
       "      <td>True</td>\n",
       "      <td>142827</td>\n",
       "      <td>11</td>\n",
       "      <td>100</td>\n",
       "      <td>40.0</td>\n",
       "      <td>29.26</td>\n",
       "      <td>1.0</td>\n",
       "      <td>14.0</td>\n",
       "      <td>26.0</td>\n",
       "      <td>42.0</td>\n",
       "      <td>104.0</td>\n",
       "      <td>19.1</td>\n",
       "      <td>0.63</td>\n",
       "      <td>-0.26</td>\n",
       "    </tr>\n",
       "    <tr>\n",
       "      <th>BP_Diastolic</th>\n",
       "      <td>float64</td>\n",
       "      <td>True</td>\n",
       "      <td>77057</td>\n",
       "      <td>65781</td>\n",
       "      <td>114</td>\n",
       "      <td>80.0</td>\n",
       "      <td>80.34</td>\n",
       "      <td>40.0</td>\n",
       "      <td>72.0</td>\n",
       "      <td>80.0</td>\n",
       "      <td>87.0</td>\n",
       "      <td>160.0</td>\n",
       "      <td>12.65</td>\n",
       "      <td>0.59</td>\n",
       "      <td>1.55</td>\n",
       "    </tr>\n",
       "    <tr>\n",
       "      <th>duration_pregnanacy</th>\n",
       "      <td>float64</td>\n",
       "      <td>True</td>\n",
       "      <td>3256</td>\n",
       "      <td>139582</td>\n",
       "      <td>25</td>\n",
       "      <td>7.0</td>\n",
       "      <td>9.9</td>\n",
       "      <td>0.0</td>\n",
       "      <td>5.0</td>\n",
       "      <td>8.0</td>\n",
       "      <td>14.0</td>\n",
       "      <td>24.0</td>\n",
       "      <td>6.64</td>\n",
       "      <td>0.58</td>\n",
       "      <td>-0.65</td>\n",
       "    </tr>\n",
       "    <tr>\n",
       "      <th>BP_Diastolic_2reading</th>\n",
       "      <td>float64</td>\n",
       "      <td>True</td>\n",
       "      <td>77015</td>\n",
       "      <td>65823</td>\n",
       "      <td>109</td>\n",
       "      <td>80.0</td>\n",
       "      <td>78.23</td>\n",
       "      <td>40.0</td>\n",
       "      <td>70.0</td>\n",
       "      <td>78.0</td>\n",
       "      <td>85.0</td>\n",
       "      <td>156.0</td>\n",
       "      <td>12.21</td>\n",
       "      <td>0.54</td>\n",
       "      <td>1.64</td>\n",
       "    </tr>\n",
       "    <tr>\n",
       "      <th>Pulse_rate</th>\n",
       "      <td>float64</td>\n",
       "      <td>True</td>\n",
       "      <td>77051</td>\n",
       "      <td>65787</td>\n",
       "      <td>98</td>\n",
       "      <td>80.0</td>\n",
       "      <td>81.81</td>\n",
       "      <td>40.0</td>\n",
       "      <td>73.0</td>\n",
       "      <td>80.0</td>\n",
       "      <td>90.0</td>\n",
       "      <td>140.0</td>\n",
       "      <td>12.09</td>\n",
       "      <td>0.49</td>\n",
       "      <td>0.6</td>\n",
       "    </tr>\n",
       "    <tr>\n",
       "      <th>Pulse_rate_2_reading</th>\n",
       "      <td>float64</td>\n",
       "      <td>True</td>\n",
       "      <td>77006</td>\n",
       "      <td>65832</td>\n",
       "      <td>101</td>\n",
       "      <td>80.0</td>\n",
       "      <td>80.72</td>\n",
       "      <td>40.0</td>\n",
       "      <td>72.0</td>\n",
       "      <td>80.0</td>\n",
       "      <td>89.0</td>\n",
       "      <td>140.0</td>\n",
       "      <td>11.88</td>\n",
       "      <td>0.41</td>\n",
       "      <td>0.48</td>\n",
       "    </tr>\n",
       "    <tr>\n",
       "      <th>Haemoglobin_level</th>\n",
       "      <td>float64</td>\n",
       "      <td>True</td>\n",
       "      <td>91035</td>\n",
       "      <td>51803</td>\n",
       "      <td>717</td>\n",
       "      <td>9.5</td>\n",
       "      <td>9.75</td>\n",
       "      <td>3.0</td>\n",
       "      <td>8.5</td>\n",
       "      <td>9.5</td>\n",
       "      <td>11.0</td>\n",
       "      <td>18.0</td>\n",
       "      <td>1.9</td>\n",
       "      <td>0.26</td>\n",
       "      <td>0.34</td>\n",
       "    </tr>\n",
       "    <tr>\n",
       "      <th>test_salt_iodine</th>\n",
       "      <td>int64</td>\n",
       "      <td>True</td>\n",
       "      <td>142838</td>\n",
       "      <td>0</td>\n",
       "      <td>9</td>\n",
       "      <td>7</td>\n",
       "      <td>17.43</td>\n",
       "      <td>0</td>\n",
       "      <td>7.0</td>\n",
       "      <td>7.0</td>\n",
       "      <td>30.0</td>\n",
       "      <td>30</td>\n",
       "      <td>11.36</td>\n",
       "      <td>0.15</td>\n",
       "      <td>-1.89</td>\n",
       "    </tr>\n",
       "    <tr>\n",
       "      <th>PSU_ID</th>\n",
       "      <td>int64</td>\n",
       "      <td>True</td>\n",
       "      <td>142838</td>\n",
       "      <td>0</td>\n",
       "      <td>142838</td>\n",
       "      <td>1000001</td>\n",
       "      <td>1071419.5</td>\n",
       "      <td>1000001</td>\n",
       "      <td>1035710.25</td>\n",
       "      <td>1071419.5</td>\n",
       "      <td>1107128.75</td>\n",
       "      <td>1142838</td>\n",
       "      <td>41233.92</td>\n",
       "      <td>-0.0</td>\n",
       "      <td>-1.2</td>\n",
       "    </tr>\n",
       "    <tr>\n",
       "      <th>vegetables_month_or_day</th>\n",
       "      <td>float64</td>\n",
       "      <td>True</td>\n",
       "      <td>4400</td>\n",
       "      <td>138438</td>\n",
       "      <td>22</td>\n",
       "      <td>0.0</td>\n",
       "      <td>7.48</td>\n",
       "      <td>0.0</td>\n",
       "      <td>6.0</td>\n",
       "      <td>9.0</td>\n",
       "      <td>11.0</td>\n",
       "      <td>30.0</td>\n",
       "      <td>4.77</td>\n",
       "      <td>-0.33</td>\n",
       "      <td>-0.31</td>\n",
       "    </tr>\n",
       "    <tr>\n",
       "      <th>solid_month</th>\n",
       "      <td>float64</td>\n",
       "      <td>True</td>\n",
       "      <td>4402</td>\n",
       "      <td>138436</td>\n",
       "      <td>21</td>\n",
       "      <td>0.0</td>\n",
       "      <td>7.04</td>\n",
       "      <td>0.0</td>\n",
       "      <td>6.0</td>\n",
       "      <td>8.0</td>\n",
       "      <td>10.0</td>\n",
       "      <td>30.0</td>\n",
       "      <td>4.23</td>\n",
       "      <td>-0.43</td>\n",
       "      <td>0.18</td>\n",
       "    </tr>\n",
       "    <tr>\n",
       "      <th>year_of_birth</th>\n",
       "      <td>int64</td>\n",
       "      <td>True</td>\n",
       "      <td>142838</td>\n",
       "      <td>0</td>\n",
       "      <td>109</td>\n",
       "      <td>1974</td>\n",
       "      <td>1984.47</td>\n",
       "      <td>1870</td>\n",
       "      <td>1972.0</td>\n",
       "      <td>1987.0</td>\n",
       "      <td>2000.0</td>\n",
       "      <td>2014</td>\n",
       "      <td>19.12</td>\n",
       "      <td>-0.63</td>\n",
       "      <td>-0.24</td>\n",
       "    </tr>\n",
       "    <tr>\n",
       "      <th>semisolid_month_or_day</th>\n",
       "      <td>float64</td>\n",
       "      <td>True</td>\n",
       "      <td>4406</td>\n",
       "      <td>138432</td>\n",
       "      <td>16</td>\n",
       "      <td>7.0</td>\n",
       "      <td>6.13</td>\n",
       "      <td>0.0</td>\n",
       "      <td>6.0</td>\n",
       "      <td>7.0</td>\n",
       "      <td>8.0</td>\n",
       "      <td>24.0</td>\n",
       "      <td>3.35</td>\n",
       "      <td>-0.76</td>\n",
       "      <td>0.18</td>\n",
       "    </tr>\n",
       "    <tr>\n",
       "      <th>state_code</th>\n",
       "      <td>object</td>\n",
       "      <td>False</td>\n",
       "      <td>142838</td>\n",
       "      <td>0</td>\n",
       "      <td>1</td>\n",
       "      <td>ASSAM</td>\n",
       "      <td>-</td>\n",
       "      <td>-</td>\n",
       "      <td>-</td>\n",
       "      <td>-</td>\n",
       "      <td>-</td>\n",
       "      <td>-</td>\n",
       "      <td>-</td>\n",
       "      <td>-</td>\n",
       "      <td>-</td>\n",
       "    </tr>\n",
       "    <tr>\n",
       "      <th>day_or_mn_for_breast_feeding_cd</th>\n",
       "      <td>object</td>\n",
       "      <td>False</td>\n",
       "      <td>4429</td>\n",
       "      <td>138409</td>\n",
       "      <td>2</td>\n",
       "      <td>Months</td>\n",
       "      <td>-</td>\n",
       "      <td>-</td>\n",
       "      <td>-</td>\n",
       "      <td>-</td>\n",
       "      <td>-</td>\n",
       "      <td>-</td>\n",
       "      <td>-</td>\n",
       "      <td>-</td>\n",
       "      <td>-</td>\n",
       "    </tr>\n",
       "    <tr>\n",
       "      <th>is_cur_breast_feeding</th>\n",
       "      <td>object</td>\n",
       "      <td>False</td>\n",
       "      <td>4441</td>\n",
       "      <td>138397</td>\n",
       "      <td>2</td>\n",
       "      <td>YES</td>\n",
       "      <td>-</td>\n",
       "      <td>-</td>\n",
       "      <td>-</td>\n",
       "      <td>-</td>\n",
       "      <td>-</td>\n",
       "      <td>-</td>\n",
       "      <td>-</td>\n",
       "      <td>-</td>\n",
       "      <td>-</td>\n",
       "    </tr>\n",
       "    <tr>\n",
       "      <th>Diabetes_test</th>\n",
       "      <td>object</td>\n",
       "      <td>False</td>\n",
       "      <td>86030</td>\n",
       "      <td>56808</td>\n",
       "      <td>2</td>\n",
       "      <td>YES</td>\n",
       "      <td>-</td>\n",
       "      <td>-</td>\n",
       "      <td>-</td>\n",
       "      <td>-</td>\n",
       "      <td>-</td>\n",
       "      <td>-</td>\n",
       "      <td>-</td>\n",
       "      <td>-</td>\n",
       "      <td>-</td>\n",
       "    </tr>\n",
       "    <tr>\n",
       "      <th>length_height_code</th>\n",
       "      <td>object</td>\n",
       "      <td>False</td>\n",
       "      <td>117128</td>\n",
       "      <td>25710</td>\n",
       "      <td>2</td>\n",
       "      <td>Height</td>\n",
       "      <td>-</td>\n",
       "      <td>-</td>\n",
       "      <td>-</td>\n",
       "      <td>-</td>\n",
       "      <td>-</td>\n",
       "      <td>-</td>\n",
       "      <td>-</td>\n",
       "      <td>-</td>\n",
       "      <td>-</td>\n",
       "    </tr>\n",
       "    <tr>\n",
       "      <th>usual_residance</th>\n",
       "      <td>object</td>\n",
       "      <td>False</td>\n",
       "      <td>142838</td>\n",
       "      <td>0</td>\n",
       "      <td>2</td>\n",
       "      <td>YES</td>\n",
       "      <td>-</td>\n",
       "      <td>-</td>\n",
       "      <td>-</td>\n",
       "      <td>-</td>\n",
       "      <td>-</td>\n",
       "      <td>-</td>\n",
       "      <td>-</td>\n",
       "      <td>-</td>\n",
       "      <td>-</td>\n",
       "    </tr>\n",
       "    <tr>\n",
       "      <th>Sex</th>\n",
       "      <td>object</td>\n",
       "      <td>False</td>\n",
       "      <td>142838</td>\n",
       "      <td>0</td>\n",
       "      <td>2</td>\n",
       "      <td>Male</td>\n",
       "      <td>-</td>\n",
       "      <td>-</td>\n",
       "      <td>-</td>\n",
       "      <td>-</td>\n",
       "      <td>-</td>\n",
       "      <td>-</td>\n",
       "      <td>-</td>\n",
       "      <td>-</td>\n",
       "      <td>-</td>\n",
       "    </tr>\n",
       "    <tr>\n",
       "      <th>Haemoglobin_test</th>\n",
       "      <td>object</td>\n",
       "      <td>False</td>\n",
       "      <td>130970</td>\n",
       "      <td>11868</td>\n",
       "      <td>2</td>\n",
       "      <td>YES</td>\n",
       "      <td>-</td>\n",
       "      <td>-</td>\n",
       "      <td>-</td>\n",
       "      <td>-</td>\n",
       "      <td>-</td>\n",
       "      <td>-</td>\n",
       "      <td>-</td>\n",
       "      <td>-</td>\n",
       "      <td>-</td>\n",
       "    </tr>\n",
       "    <tr>\n",
       "      <th>treatment_type</th>\n",
       "      <td>object</td>\n",
       "      <td>False</td>\n",
       "      <td>880</td>\n",
       "      <td>141958</td>\n",
       "      <td>2</td>\n",
       "      <td>NO</td>\n",
       "      <td>-</td>\n",
       "      <td>-</td>\n",
       "      <td>-</td>\n",
       "      <td>-</td>\n",
       "      <td>-</td>\n",
       "      <td>-</td>\n",
       "      <td>-</td>\n",
       "      <td>-</td>\n",
       "      <td>-</td>\n",
       "    </tr>\n",
       "    <tr>\n",
       "      <th>rural_urban</th>\n",
       "      <td>object</td>\n",
       "      <td>False</td>\n",
       "      <td>142838</td>\n",
       "      <td>0</td>\n",
       "      <td>2</td>\n",
       "      <td>Rural</td>\n",
       "      <td>-</td>\n",
       "      <td>-</td>\n",
       "      <td>-</td>\n",
       "      <td>-</td>\n",
       "      <td>-</td>\n",
       "      <td>-</td>\n",
       "      <td>-</td>\n",
       "      <td>-</td>\n",
       "      <td>-</td>\n",
       "    </tr>\n",
       "    <tr>\n",
       "      <th>record_code_iodine</th>\n",
       "      <td>object</td>\n",
       "      <td>False</td>\n",
       "      <td>142838</td>\n",
       "      <td>0</td>\n",
       "      <td>3</td>\n",
       "      <td>More than or equal to 15 PPM</td>\n",
       "      <td>-</td>\n",
       "      <td>-</td>\n",
       "      <td>-</td>\n",
       "      <td>-</td>\n",
       "      <td>-</td>\n",
       "      <td>-</td>\n",
       "      <td>-</td>\n",
       "      <td>-</td>\n",
       "      <td>-</td>\n",
       "    </tr>\n",
       "    <tr>\n",
       "      <th>gauna_perfor_not_perfor</th>\n",
       "      <td>object</td>\n",
       "      <td>False</td>\n",
       "      <td>23668</td>\n",
       "      <td>119170</td>\n",
       "      <td>3</td>\n",
       "      <td>Non-pregnant or Non-lactating</td>\n",
       "      <td>-</td>\n",
       "      <td>-</td>\n",
       "      <td>-</td>\n",
       "      <td>-</td>\n",
       "      <td>-</td>\n",
       "      <td>-</td>\n",
       "      <td>-</td>\n",
       "      <td>-</td>\n",
       "      <td>-</td>\n",
       "    </tr>\n",
       "    <tr>\n",
       "      <th>Age_Code</th>\n",
       "      <td>object</td>\n",
       "      <td>False</td>\n",
       "      <td>142838</td>\n",
       "      <td>0</td>\n",
       "      <td>3</td>\n",
       "      <td>Year</td>\n",
       "      <td>-</td>\n",
       "      <td>-</td>\n",
       "      <td>-</td>\n",
       "      <td>-</td>\n",
       "      <td>-</td>\n",
       "      <td>-</td>\n",
       "      <td>-</td>\n",
       "      <td>-</td>\n",
       "      <td>-</td>\n",
       "    </tr>\n",
       "    <tr>\n",
       "      <th>stratum</th>\n",
       "      <td>object</td>\n",
       "      <td>False</td>\n",
       "      <td>142838</td>\n",
       "      <td>0</td>\n",
       "      <td>3</td>\n",
       "      <td>200&lt;population&lt;2000</td>\n",
       "      <td>-</td>\n",
       "      <td>-</td>\n",
       "      <td>-</td>\n",
       "      <td>-</td>\n",
       "      <td>-</td>\n",
       "      <td>-</td>\n",
       "      <td>-</td>\n",
       "      <td>-</td>\n",
       "      <td>-</td>\n",
       "    </tr>\n",
       "    <tr>\n",
       "      <th>fasting_blood_glucose</th>\n",
       "      <td>object</td>\n",
       "      <td>False</td>\n",
       "      <td>80069</td>\n",
       "      <td>62769</td>\n",
       "      <td>4</td>\n",
       "      <td>Measured</td>\n",
       "      <td>-</td>\n",
       "      <td>-</td>\n",
       "      <td>-</td>\n",
       "      <td>-</td>\n",
       "      <td>-</td>\n",
       "      <td>-</td>\n",
       "      <td>-</td>\n",
       "      <td>-</td>\n",
       "      <td>-</td>\n",
       "    </tr>\n",
       "    <tr>\n",
       "      <th>Haemoglobin</th>\n",
       "      <td>object</td>\n",
       "      <td>False</td>\n",
       "      <td>112758</td>\n",
       "      <td>30080</td>\n",
       "      <td>4</td>\n",
       "      <td>Measured</td>\n",
       "      <td>-</td>\n",
       "      <td>-</td>\n",
       "      <td>-</td>\n",
       "      <td>-</td>\n",
       "      <td>-</td>\n",
       "      <td>-</td>\n",
       "      <td>-</td>\n",
       "      <td>-</td>\n",
       "      <td>-</td>\n",
       "    </tr>\n",
       "    <tr>\n",
       "      <th>Length_height_measured</th>\n",
       "      <td>object</td>\n",
       "      <td>False</td>\n",
       "      <td>132001</td>\n",
       "      <td>10837</td>\n",
       "      <td>4</td>\n",
       "      <td>Measured</td>\n",
       "      <td>-</td>\n",
       "      <td>-</td>\n",
       "      <td>-</td>\n",
       "      <td>-</td>\n",
       "      <td>-</td>\n",
       "      <td>-</td>\n",
       "      <td>-</td>\n",
       "      <td>-</td>\n",
       "      <td>-</td>\n",
       "    </tr>\n",
       "    <tr>\n",
       "      <th>Weight_measured</th>\n",
       "      <td>object</td>\n",
       "      <td>False</td>\n",
       "      <td>132004</td>\n",
       "      <td>10834</td>\n",
       "      <td>4</td>\n",
       "      <td>Measured</td>\n",
       "      <td>-</td>\n",
       "      <td>-</td>\n",
       "      <td>-</td>\n",
       "      <td>-</td>\n",
       "      <td>-</td>\n",
       "      <td>-</td>\n",
       "      <td>-</td>\n",
       "      <td>-</td>\n",
       "      <td>-</td>\n",
       "    </tr>\n",
       "    <tr>\n",
       "      <th>record_code_iodine_reason</th>\n",
       "      <td>object</td>\n",
       "      <td>False</td>\n",
       "      <td>29</td>\n",
       "      <td>142809</td>\n",
       "      <td>5</td>\n",
       "      <td>SHIFTED</td>\n",
       "      <td>-</td>\n",
       "      <td>-</td>\n",
       "      <td>-</td>\n",
       "      <td>-</td>\n",
       "      <td>-</td>\n",
       "      <td>-</td>\n",
       "      <td>-</td>\n",
       "      <td>-</td>\n",
       "      <td>-</td>\n",
       "    </tr>\n",
       "    <tr>\n",
       "      <th>illness_type</th>\n",
       "      <td>object</td>\n",
       "      <td>False</td>\n",
       "      <td>7701</td>\n",
       "      <td>135137</td>\n",
       "      <td>5</td>\n",
       "      <td>No illness</td>\n",
       "      <td>-</td>\n",
       "      <td>-</td>\n",
       "      <td>-</td>\n",
       "      <td>-</td>\n",
       "      <td>-</td>\n",
       "      <td>-</td>\n",
       "      <td>-</td>\n",
       "      <td>-</td>\n",
       "      <td>-</td>\n",
       "    </tr>\n",
       "    <tr>\n",
       "      <th>first_breast_feeding</th>\n",
       "      <td>object</td>\n",
       "      <td>False</td>\n",
       "      <td>4444</td>\n",
       "      <td>138394</td>\n",
       "      <td>5</td>\n",
       "      <td>Immediately within 1 hour of birth</td>\n",
       "      <td>-</td>\n",
       "      <td>-</td>\n",
       "      <td>-</td>\n",
       "      <td>-</td>\n",
       "      <td>-</td>\n",
       "      <td>-</td>\n",
       "      <td>-</td>\n",
       "      <td>-</td>\n",
       "      <td>-</td>\n",
       "    </tr>\n",
       "    <tr>\n",
       "      <th>Marital_status</th>\n",
       "      <td>object</td>\n",
       "      <td>False</td>\n",
       "      <td>37387</td>\n",
       "      <td>105451</td>\n",
       "      <td>8</td>\n",
       "      <td>Married and Gauna perfomed</td>\n",
       "      <td>-</td>\n",
       "      <td>-</td>\n",
       "      <td>-</td>\n",
       "      <td>-</td>\n",
       "      <td>-</td>\n",
       "      <td>-</td>\n",
       "      <td>-</td>\n",
       "      <td>-</td>\n",
       "      <td>-</td>\n",
       "    </tr>\n",
       "    <tr>\n",
       "      <th>district_code</th>\n",
       "      <td>object</td>\n",
       "      <td>False</td>\n",
       "      <td>142838</td>\n",
       "      <td>0</td>\n",
       "      <td>23</td>\n",
       "      <td>JORHAT</td>\n",
       "      <td>-</td>\n",
       "      <td>-</td>\n",
       "      <td>-</td>\n",
       "      <td>-</td>\n",
       "      <td>-</td>\n",
       "      <td>-</td>\n",
       "      <td>-</td>\n",
       "      <td>-</td>\n",
       "      <td>-</td>\n",
       "    </tr>\n",
       "    <tr>\n",
       "      <th>usual_residance_Reason</th>\n",
       "      <td>object</td>\n",
       "      <td>False</td>\n",
       "      <td>7309</td>\n",
       "      <td>135529</td>\n",
       "      <td>113</td>\n",
       "      <td>OUT MIGRATE</td>\n",
       "      <td>-</td>\n",
       "      <td>-</td>\n",
       "      <td>-</td>\n",
       "      <td>-</td>\n",
       "      <td>-</td>\n",
       "      <td>-</td>\n",
       "      <td>-</td>\n",
       "      <td>-</td>\n",
       "      <td>-</td>\n",
       "    </tr>\n",
       "    <tr>\n",
       "      <th>date_survey</th>\n",
       "      <td>object</td>\n",
       "      <td>False</td>\n",
       "      <td>142838</td>\n",
       "      <td>0</td>\n",
       "      <td>429</td>\n",
       "      <td>12-06-14</td>\n",
       "      <td>-</td>\n",
       "      <td>-</td>\n",
       "      <td>-</td>\n",
       "      <td>-</td>\n",
       "      <td>-</td>\n",
       "      <td>-</td>\n",
       "      <td>-</td>\n",
       "      <td>-</td>\n",
       "      <td>-</td>\n",
       "    </tr>\n",
       "  </tbody>\n",
       "</table>\n",
       "</div>"
      ],
      "text/plain": [
       "                                   Dtype  Numeric   Count  Missing  Unique  \\\n",
       "sl_no                              int64     True  142838        0      30   \n",
       "Weight_in_kg                     float64     True  117163    25675    1027   \n",
       "illness_duration                 float64     True    1037   141801      18   \n",
       "identification_code              float64     True  142592      246    4573   \n",
       "house_hold_no                      int64     True  142838        0      57   \n",
       "ahs_house_unit                     int64     True  142838        0     954   \n",
       "day_or_month_for_breast_feeding  float64     True    4428   138410      29   \n",
       "fasting_blood_glucose_mg_dl      float64     True   72166    70672     287   \n",
       "water_month                      float64     True    4413   138425      15   \n",
       "ani_milk_month                   float64     True    4412   138426      16   \n",
       "date_of_birth                      int64     True  142838        0      32   \n",
       "month_of_birth                     int64     True  142838        0      13   \n",
       "Length_height_cm                 float64     True  117125    25713    1434   \n",
       "BP_systolic_2_reading            float64     True   77018    65820     168   \n",
       "BP_systolic                      float64     True   77057    65781     165   \n",
       "Age                              float64     True  142827       11     100   \n",
       "BP_Diastolic                     float64     True   77057    65781     114   \n",
       "duration_pregnanacy              float64     True    3256   139582      25   \n",
       "BP_Diastolic_2reading            float64     True   77015    65823     109   \n",
       "Pulse_rate                       float64     True   77051    65787      98   \n",
       "Pulse_rate_2_reading             float64     True   77006    65832     101   \n",
       "Haemoglobin_level                float64     True   91035    51803     717   \n",
       "test_salt_iodine                   int64     True  142838        0       9   \n",
       "PSU_ID                             int64     True  142838        0  142838   \n",
       "vegetables_month_or_day          float64     True    4400   138438      22   \n",
       "solid_month                      float64     True    4402   138436      21   \n",
       "year_of_birth                      int64     True  142838        0     109   \n",
       "semisolid_month_or_day           float64     True    4406   138432      16   \n",
       "state_code                        object    False  142838        0       1   \n",
       "day_or_mn_for_breast_feeding_cd   object    False    4429   138409       2   \n",
       "is_cur_breast_feeding             object    False    4441   138397       2   \n",
       "Diabetes_test                     object    False   86030    56808       2   \n",
       "length_height_code                object    False  117128    25710       2   \n",
       "usual_residance                   object    False  142838        0       2   \n",
       "Sex                               object    False  142838        0       2   \n",
       "Haemoglobin_test                  object    False  130970    11868       2   \n",
       "treatment_type                    object    False     880   141958       2   \n",
       "rural_urban                       object    False  142838        0       2   \n",
       "record_code_iodine                object    False  142838        0       3   \n",
       "gauna_perfor_not_perfor           object    False   23668   119170       3   \n",
       "Age_Code                          object    False  142838        0       3   \n",
       "stratum                           object    False  142838        0       3   \n",
       "fasting_blood_glucose             object    False   80069    62769       4   \n",
       "Haemoglobin                       object    False  112758    30080       4   \n",
       "Length_height_measured            object    False  132001    10837       4   \n",
       "Weight_measured                   object    False  132004    10834       4   \n",
       "record_code_iodine_reason         object    False      29   142809       5   \n",
       "illness_type                      object    False    7701   135137       5   \n",
       "first_breast_feeding              object    False    4444   138394       5   \n",
       "Marital_status                    object    False   37387   105451       8   \n",
       "district_code                     object    False  142838        0      23   \n",
       "usual_residance_Reason            object    False    7309   135529     113   \n",
       "date_survey                       object    False  142838        0     429   \n",
       "\n",
       "                                                               Mode  \\\n",
       "sl_no                                                             1   \n",
       "Weight_in_kg                                              50.099998   \n",
       "illness_duration                                                2.0   \n",
       "identification_code                                             2.0   \n",
       "house_hold_no                                                     1   \n",
       "ahs_house_unit                                                    1   \n",
       "day_or_month_for_breast_feeding                                 6.0   \n",
       "fasting_blood_glucose_mg_dl                                    98.0   \n",
       "water_month                                                     6.0   \n",
       "ani_milk_month                                                  7.0   \n",
       "date_of_birth                                                     1   \n",
       "month_of_birth                                                    1   \n",
       "Length_height_cm                                              150.0   \n",
       "BP_systolic_2_reading                                         120.0   \n",
       "BP_systolic                                                   120.0   \n",
       "Age                                                            40.0   \n",
       "BP_Diastolic                                                   80.0   \n",
       "duration_pregnanacy                                             7.0   \n",
       "BP_Diastolic_2reading                                          80.0   \n",
       "Pulse_rate                                                     80.0   \n",
       "Pulse_rate_2_reading                                           80.0   \n",
       "Haemoglobin_level                                               9.5   \n",
       "test_salt_iodine                                                  7   \n",
       "PSU_ID                                                      1000001   \n",
       "vegetables_month_or_day                                         0.0   \n",
       "solid_month                                                     0.0   \n",
       "year_of_birth                                                  1974   \n",
       "semisolid_month_or_day                                          7.0   \n",
       "state_code                                                    ASSAM   \n",
       "day_or_mn_for_breast_feeding_cd                              Months   \n",
       "is_cur_breast_feeding                                           YES   \n",
       "Diabetes_test                                                   YES   \n",
       "length_height_code                                           Height   \n",
       "usual_residance                                                 YES   \n",
       "Sex                                                            Male   \n",
       "Haemoglobin_test                                                YES   \n",
       "treatment_type                                                   NO   \n",
       "rural_urban                                                   Rural   \n",
       "record_code_iodine                     More than or equal to 15 PPM   \n",
       "gauna_perfor_not_perfor               Non-pregnant or Non-lactating   \n",
       "Age_Code                                                       Year   \n",
       "stratum                                         200<population<2000   \n",
       "fasting_blood_glucose                                      Measured   \n",
       "Haemoglobin                                                Measured   \n",
       "Length_height_measured                                     Measured   \n",
       "Weight_measured                                            Measured   \n",
       "record_code_iodine_reason                                   SHIFTED   \n",
       "illness_type                                             No illness   \n",
       "first_breast_feeding             Immediately within 1 hour of birth   \n",
       "Marital_status                           Married and Gauna perfomed   \n",
       "district_code                                                JORHAT   \n",
       "usual_residance_Reason                                  OUT MIGRATE   \n",
       "date_survey                                                12-06-14   \n",
       "\n",
       "                                      Mean      Min         25%     Median  \\\n",
       "sl_no                                  3.1        0         2.0        3.0   \n",
       "Weight_in_kg                         42.58      0.5   32.099998  46.200001   \n",
       "illness_duration                      2.96      0.0         0.0        2.0   \n",
       "identification_code                 991.58      0.0       322.0      711.0   \n",
       "house_hold_no                          1.3        0         1.0        1.0   \n",
       "ahs_house_unit                      185.48        1        67.0      148.0   \n",
       "day_or_month_for_breast_feeding       4.75      0.0         4.0        5.0   \n",
       "fasting_blood_glucose_mg_dl          98.31     50.0        90.0       97.0   \n",
       "water_month                           4.86      0.0         4.0        6.0   \n",
       "ani_milk_month                        5.08      0.0         4.0        6.0   \n",
       "date_of_birth                          5.8        0         0.0        1.0   \n",
       "month_of_birth                        3.32        0         1.0        1.0   \n",
       "Length_height_cm                    144.66     45.5       140.0      151.3   \n",
       "BP_systolic_2_reading               123.38     60.0       112.0      121.0   \n",
       "BP_systolic                         126.56     61.0       115.0      125.0   \n",
       "Age                                  29.26      1.0        14.0       26.0   \n",
       "BP_Diastolic                         80.34     40.0        72.0       80.0   \n",
       "duration_pregnanacy                    9.9      0.0         5.0        8.0   \n",
       "BP_Diastolic_2reading                78.23     40.0        70.0       78.0   \n",
       "Pulse_rate                           81.81     40.0        73.0       80.0   \n",
       "Pulse_rate_2_reading                 80.72     40.0        72.0       80.0   \n",
       "Haemoglobin_level                     9.75      3.0         8.5        9.5   \n",
       "test_salt_iodine                     17.43        0         7.0        7.0   \n",
       "PSU_ID                           1071419.5  1000001  1035710.25  1071419.5   \n",
       "vegetables_month_or_day               7.48      0.0         6.0        9.0   \n",
       "solid_month                           7.04      0.0         6.0        8.0   \n",
       "year_of_birth                      1984.47     1870      1972.0     1987.0   \n",
       "semisolid_month_or_day                6.13      0.0         6.0        7.0   \n",
       "state_code                               -        -           -          -   \n",
       "day_or_mn_for_breast_feeding_cd          -        -           -          -   \n",
       "is_cur_breast_feeding                    -        -           -          -   \n",
       "Diabetes_test                            -        -           -          -   \n",
       "length_height_code                       -        -           -          -   \n",
       "usual_residance                          -        -           -          -   \n",
       "Sex                                      -        -           -          -   \n",
       "Haemoglobin_test                         -        -           -          -   \n",
       "treatment_type                           -        -           -          -   \n",
       "rural_urban                              -        -           -          -   \n",
       "record_code_iodine                       -        -           -          -   \n",
       "gauna_perfor_not_perfor                  -        -           -          -   \n",
       "Age_Code                                 -        -           -          -   \n",
       "stratum                                  -        -           -          -   \n",
       "fasting_blood_glucose                    -        -           -          -   \n",
       "Haemoglobin                              -        -           -          -   \n",
       "Length_height_measured                   -        -           -          -   \n",
       "Weight_measured                          -        -           -          -   \n",
       "record_code_iodine_reason                -        -           -          -   \n",
       "illness_type                             -        -           -          -   \n",
       "first_breast_feeding                     -        -           -          -   \n",
       "Marital_status                           -        -           -          -   \n",
       "district_code                            -        -           -          -   \n",
       "usual_residance_Reason                   -        -           -          -   \n",
       "date_survey                              -        -           -          -   \n",
       "\n",
       "                                        75%      Max       Std    Skew  \\\n",
       "sl_no                                   4.0      999      3.28  197.67   \n",
       "Weight_in_kg                      53.700001   6602.0     25.39  147.04   \n",
       "illness_duration                        3.0    365.0     12.11   26.76   \n",
       "identification_code                  1247.0  99999.0   2888.68   24.78   \n",
       "house_hold_no                           1.0       99       2.0   21.19   \n",
       "ahs_house_unit                        264.0     9111     169.7    8.22   \n",
       "day_or_month_for_breast_feeding         6.0     79.0      2.55    7.64   \n",
       "fasting_blood_glucose_mg_dl           103.0    400.0     19.34    5.06   \n",
       "water_month                             7.0     73.0      2.69    2.95   \n",
       "ani_milk_month                          7.0     70.0      3.08    1.62   \n",
       "date_of_birth                          10.0       31      8.63    1.45   \n",
       "month_of_birth                          6.0       12      3.82    1.02   \n",
       "Length_height_cm                      159.7   1699.0     23.51     1.0   \n",
       "BP_systolic_2_reading                 132.0    249.0     17.67    0.87   \n",
       "BP_systolic                           136.0    249.0     18.11    0.83   \n",
       "Age                                    42.0    104.0      19.1    0.63   \n",
       "BP_Diastolic                           87.0    160.0     12.65    0.59   \n",
       "duration_pregnanacy                    14.0     24.0      6.64    0.58   \n",
       "BP_Diastolic_2reading                  85.0    156.0     12.21    0.54   \n",
       "Pulse_rate                             90.0    140.0     12.09    0.49   \n",
       "Pulse_rate_2_reading                   89.0    140.0     11.88    0.41   \n",
       "Haemoglobin_level                      11.0     18.0       1.9    0.26   \n",
       "test_salt_iodine                       30.0       30     11.36    0.15   \n",
       "PSU_ID                           1107128.75  1142838  41233.92    -0.0   \n",
       "vegetables_month_or_day                11.0     30.0      4.77   -0.33   \n",
       "solid_month                            10.0     30.0      4.23   -0.43   \n",
       "year_of_birth                        2000.0     2014     19.12   -0.63   \n",
       "semisolid_month_or_day                  8.0     24.0      3.35   -0.76   \n",
       "state_code                                -        -         -       -   \n",
       "day_or_mn_for_breast_feeding_cd           -        -         -       -   \n",
       "is_cur_breast_feeding                     -        -         -       -   \n",
       "Diabetes_test                             -        -         -       -   \n",
       "length_height_code                        -        -         -       -   \n",
       "usual_residance                           -        -         -       -   \n",
       "Sex                                       -        -         -       -   \n",
       "Haemoglobin_test                          -        -         -       -   \n",
       "treatment_type                            -        -         -       -   \n",
       "rural_urban                               -        -         -       -   \n",
       "record_code_iodine                        -        -         -       -   \n",
       "gauna_perfor_not_perfor                   -        -         -       -   \n",
       "Age_Code                                  -        -         -       -   \n",
       "stratum                                   -        -         -       -   \n",
       "fasting_blood_glucose                     -        -         -       -   \n",
       "Haemoglobin                               -        -         -       -   \n",
       "Length_height_measured                    -        -         -       -   \n",
       "Weight_measured                           -        -         -       -   \n",
       "record_code_iodine_reason                 -        -         -       -   \n",
       "illness_type                              -        -         -       -   \n",
       "first_breast_feeding                      -        -         -       -   \n",
       "Marital_status                            -        -         -       -   \n",
       "district_code                             -        -         -       -   \n",
       "usual_residance_Reason                    -        -         -       -   \n",
       "date_survey                               -        -         -       -   \n",
       "\n",
       "                                     Kurt  \n",
       "sl_no                            59812.87  \n",
       "Weight_in_kg                     37996.71  \n",
       "illness_duration                    780.8  \n",
       "identification_code                693.32  \n",
       "house_hold_no                      637.59  \n",
       "ahs_house_unit                      322.4  \n",
       "day_or_month_for_breast_feeding    177.82  \n",
       "fasting_blood_glucose_mg_dl         48.43  \n",
       "water_month                         92.63  \n",
       "ani_milk_month                      44.44  \n",
       "date_of_birth                         0.8  \n",
       "month_of_birth                       -0.4  \n",
       "Length_height_cm                   164.86  \n",
       "BP_systolic_2_reading                2.03  \n",
       "BP_systolic                          1.69  \n",
       "Age                                 -0.26  \n",
       "BP_Diastolic                         1.55  \n",
       "duration_pregnanacy                 -0.65  \n",
       "BP_Diastolic_2reading                1.64  \n",
       "Pulse_rate                            0.6  \n",
       "Pulse_rate_2_reading                 0.48  \n",
       "Haemoglobin_level                    0.34  \n",
       "test_salt_iodine                    -1.89  \n",
       "PSU_ID                               -1.2  \n",
       "vegetables_month_or_day             -0.31  \n",
       "solid_month                          0.18  \n",
       "year_of_birth                       -0.24  \n",
       "semisolid_month_or_day               0.18  \n",
       "state_code                              -  \n",
       "day_or_mn_for_breast_feeding_cd         -  \n",
       "is_cur_breast_feeding                   -  \n",
       "Diabetes_test                           -  \n",
       "length_height_code                      -  \n",
       "usual_residance                         -  \n",
       "Sex                                     -  \n",
       "Haemoglobin_test                        -  \n",
       "treatment_type                          -  \n",
       "rural_urban                             -  \n",
       "record_code_iodine                      -  \n",
       "gauna_perfor_not_perfor                 -  \n",
       "Age_Code                                -  \n",
       "stratum                                 -  \n",
       "fasting_blood_glucose                   -  \n",
       "Haemoglobin                             -  \n",
       "Length_height_measured                  -  \n",
       "Weight_measured                         -  \n",
       "record_code_iodine_reason               -  \n",
       "illness_type                            -  \n",
       "first_breast_feeding                    -  \n",
       "Marital_status                          -  \n",
       "district_code                           -  \n",
       "usual_residance_Reason                  -  \n",
       "date_survey                             -  "
      ]
     },
     "execution_count": 131,
     "metadata": {},
     "output_type": "execute_result"
    }
   ],
   "source": [
    "# we call our univariate stats function to get an initial overview of our dataset\n",
    "func.univarstats(df)"
   ]
  },
  {
   "cell_type": "markdown",
   "metadata": {},
   "source": [
    "#### **Data Cleaning**\n",
    "\n",
    "First, we filter out our dataset with age range of 30 to 80 years only in accordance to what our classifiers are trained on. We also filter out the observations that do not have the crucial information our classifier will need to classify.\n",
    "Then, we start exploring and cleaning as we go through all our relevant features."
   ]
  },
  {
   "cell_type": "code",
   "execution_count": 132,
   "metadata": {},
   "outputs": [],
   "source": [
    "# we filter by age range of 30 to 80 years as that is where our classification model is trained for ( see note above )\n",
    "df = df[(df[\"Age\"] >= 30) & (df[\"Age\"] <= 80)]"
   ]
  },
  {
   "cell_type": "code",
   "execution_count": 133,
   "metadata": {},
   "outputs": [],
   "source": [
    "# we filter out all rows that doesn't have the features that we need for classification\n",
    "df = df[(df[\"Weight_in_kg\"].notnull()) & (df[\"Length_height_cm\"].notnull())  & (df[\"BP_systolic\"].notnull())  & (df[\"fasting_blood_glucose_mg_dl\"].notnull())]"
   ]
  },
  {
   "cell_type": "markdown",
   "metadata": {},
   "source": [
    "##### Sex"
   ]
  },
  {
   "cell_type": "code",
   "execution_count": 134,
   "metadata": {},
   "outputs": [],
   "source": [
    "# we create dummies for \"Sex\" column\n",
    "df[\"Sex\"] = df[\"Sex\"].apply(lambda x: 1 if x == \"Male\" else 0)"
   ]
  },
  {
   "cell_type": "markdown",
   "metadata": {},
   "source": [
    "##### BP Systolic Reading\n",
    "\n",
    "In our dataset we have two readings for systolic blood pressure. We take the average of both the readings into the main reading or only the first reading if the second reading is null."
   ]
  },
  {
   "cell_type": "code",
   "execution_count": 135,
   "metadata": {},
   "outputs": [],
   "source": [
    "# we create a main column for bp sys reading and take avg of the two readings if both are available or else we take only the 1st reading if 2nd reading is missing\n",
    "df[\"BP_systolic_2_reading\"].fillna(\"1\", inplace=True)\n",
    "df[\"BP_systolic_2_reading\"] = df[\"BP_systolic_2_reading\"].astype(\"int\")\n",
    "df[\"bp_sys_main\"] = df.apply(lambda x: x[\"BP_systolic\"] if x[\"BP_systolic_2_reading\"] == 1 else ((x[\"BP_systolic\"])+(x[\"BP_systolic_2_reading\"]))/2 , axis=1)"
   ]
  },
  {
   "cell_type": "markdown",
   "metadata": {},
   "source": [
    "##### Hypertension\n",
    "\n",
    "We created a feature hypertension where we classified anyone with BP systolic reading of 140 and above as hypertensive."
   ]
  },
  {
   "cell_type": "code",
   "execution_count": 136,
   "metadata": {},
   "outputs": [],
   "source": [
    "# we create a column to classify hypertension from blood pressure measurements\n",
    "df[\"hypertension\"] = df[\"bp_sys_main\"].apply(lambda x: 1 if x >= 140 else 0)"
   ]
  },
  {
   "cell_type": "markdown",
   "metadata": {},
   "source": [
    "##### Marital Status\n",
    "\n",
    "We filled the null values in Marital status with “Never married”. Then, we created a new feature and classified on the basis if a person ever married or not."
   ]
  },
  {
   "cell_type": "code",
   "execution_count": 137,
   "metadata": {},
   "outputs": [],
   "source": [
    "# we fill null values in marital status with never married\n",
    "df[\"Marital_status\"].fillna(\"Never married\", inplace=True)"
   ]
  },
  {
   "cell_type": "code",
   "execution_count": 138,
   "metadata": {},
   "outputs": [],
   "source": [
    "# we create a column to classify if the respondent ever married\n",
    "df[\"ever_married\"] = df.apply(lambda x: 0 if ((\"Never married\" in x[\"Marital_status\"]) | (\"Not Stated\" in x[\"Marital_status\"])) else 1, axis=1)"
   ]
  },
  {
   "cell_type": "markdown",
   "metadata": {},
   "source": [
    "##### Rural / Urban"
   ]
  },
  {
   "cell_type": "code",
   "execution_count": 139,
   "metadata": {},
   "outputs": [],
   "source": [
    "# we create dummies for \"rural_urban\" column\n",
    "df[\"rural_urban\"] = df[\"rural_urban\"].apply(lambda x: 1 if x == \"Urban\" else 0)"
   ]
  },
  {
   "cell_type": "markdown",
   "metadata": {},
   "source": [
    "##### BMI\n",
    "\n",
    "We remove some corrupted information (Outliers) from our Weight and Height and also some corrupted observations. Then, we proceed forward to feature engineer BMI."
   ]
  },
  {
   "cell_type": "code",
   "execution_count": 140,
   "metadata": {},
   "outputs": [],
   "source": [
    "# we filter out outliers in our weights column that can affect our model performance\n",
    "df = df[(df[\"Weight_in_kg\"] >= df[\"Weight_in_kg\"].quantile(0.01)) & (df[\"Weight_in_kg\"] <= df[\"Weight_in_kg\"].quantile(0.99999))]"
   ]
  },
  {
   "cell_type": "code",
   "execution_count": 141,
   "metadata": {},
   "outputs": [],
   "source": [
    "# we filter out the outliers from our heights column\n",
    "df = df[(df[\"Length_height_cm\"] >= df[\"Length_height_cm\"].quantile(0.0003)) & (df[\"Length_height_cm\"] <= df[\"Length_height_cm\"].quantile(0.9999))]"
   ]
  },
  {
   "cell_type": "code",
   "execution_count": 142,
   "metadata": {},
   "outputs": [
    {
     "data": {
      "text/html": [
       "<div>\n",
       "<style scoped>\n",
       "    .dataframe tbody tr th:only-of-type {\n",
       "        vertical-align: middle;\n",
       "    }\n",
       "\n",
       "    .dataframe tbody tr th {\n",
       "        vertical-align: top;\n",
       "    }\n",
       "\n",
       "    .dataframe thead th {\n",
       "        text-align: right;\n",
       "    }\n",
       "</style>\n",
       "<table border=\"1\" class=\"dataframe\">\n",
       "  <thead>\n",
       "    <tr style=\"text-align: right;\">\n",
       "      <th></th>\n",
       "      <th>state_code</th>\n",
       "      <th>district_code</th>\n",
       "      <th>rural_urban</th>\n",
       "      <th>stratum</th>\n",
       "      <th>PSU_ID</th>\n",
       "      <th>ahs_house_unit</th>\n",
       "      <th>house_hold_no</th>\n",
       "      <th>date_survey</th>\n",
       "      <th>test_salt_iodine</th>\n",
       "      <th>record_code_iodine</th>\n",
       "      <th>...</th>\n",
       "      <th>ani_milk_month</th>\n",
       "      <th>semisolid_month_or_day</th>\n",
       "      <th>solid_month</th>\n",
       "      <th>vegetables_month_or_day</th>\n",
       "      <th>illness_type</th>\n",
       "      <th>illness_duration</th>\n",
       "      <th>treatment_type</th>\n",
       "      <th>bp_sys_main</th>\n",
       "      <th>hypertension</th>\n",
       "      <th>ever_married</th>\n",
       "    </tr>\n",
       "  </thead>\n",
       "  <tbody>\n",
       "    <tr>\n",
       "      <th>56672</th>\n",
       "      <td>ASSAM</td>\n",
       "      <td>GOLAGHAT</td>\n",
       "      <td>0</td>\n",
       "      <td>population&gt;=2000</td>\n",
       "      <td>1035977</td>\n",
       "      <td>399</td>\n",
       "      <td>1</td>\n",
       "      <td>03-09-14</td>\n",
       "      <td>7</td>\n",
       "      <td>Less than 15 PPM</td>\n",
       "      <td>...</td>\n",
       "      <td>NaN</td>\n",
       "      <td>NaN</td>\n",
       "      <td>NaN</td>\n",
       "      <td>NaN</td>\n",
       "      <td>NaN</td>\n",
       "      <td>NaN</td>\n",
       "      <td>NaN</td>\n",
       "      <td>136.5</td>\n",
       "      <td>0</td>\n",
       "      <td>0</td>\n",
       "    </tr>\n",
       "    <tr>\n",
       "      <th>98636</th>\n",
       "      <td>ASSAM</td>\n",
       "      <td>LAKHIMPUR</td>\n",
       "      <td>0</td>\n",
       "      <td>population&gt;=2000</td>\n",
       "      <td>1136149</td>\n",
       "      <td>230</td>\n",
       "      <td>1</td>\n",
       "      <td>21-12-14</td>\n",
       "      <td>30</td>\n",
       "      <td>More than or equal to 15 PPM</td>\n",
       "      <td>...</td>\n",
       "      <td>NaN</td>\n",
       "      <td>NaN</td>\n",
       "      <td>NaN</td>\n",
       "      <td>NaN</td>\n",
       "      <td>NaN</td>\n",
       "      <td>NaN</td>\n",
       "      <td>NaN</td>\n",
       "      <td>123.5</td>\n",
       "      <td>0</td>\n",
       "      <td>0</td>\n",
       "    </tr>\n",
       "    <tr>\n",
       "      <th>125074</th>\n",
       "      <td>ASSAM</td>\n",
       "      <td>NORTH CACHAR HILLS</td>\n",
       "      <td>1</td>\n",
       "      <td>Urban</td>\n",
       "      <td>1053590</td>\n",
       "      <td>275</td>\n",
       "      <td>1</td>\n",
       "      <td>08-07-14</td>\n",
       "      <td>7</td>\n",
       "      <td>Less than 15 PPM</td>\n",
       "      <td>...</td>\n",
       "      <td>NaN</td>\n",
       "      <td>NaN</td>\n",
       "      <td>NaN</td>\n",
       "      <td>NaN</td>\n",
       "      <td>NaN</td>\n",
       "      <td>NaN</td>\n",
       "      <td>NaN</td>\n",
       "      <td>141.5</td>\n",
       "      <td>1</td>\n",
       "      <td>0</td>\n",
       "    </tr>\n",
       "  </tbody>\n",
       "</table>\n",
       "<p>3 rows × 56 columns</p>\n",
       "</div>"
      ],
      "text/plain": [
       "       state_code       district_code  rural_urban           stratum   PSU_ID  \\\n",
       "56672       ASSAM            GOLAGHAT            0  population>=2000  1035977   \n",
       "98636       ASSAM           LAKHIMPUR            0  population>=2000  1136149   \n",
       "125074      ASSAM  NORTH CACHAR HILLS            1             Urban  1053590   \n",
       "\n",
       "        ahs_house_unit  house_hold_no date_survey  test_salt_iodine  \\\n",
       "56672              399              1    03-09-14                 7   \n",
       "98636              230              1    21-12-14                30   \n",
       "125074             275              1    08-07-14                 7   \n",
       "\n",
       "                  record_code_iodine  ... ani_milk_month  \\\n",
       "56672               Less than 15 PPM  ...            NaN   \n",
       "98636   More than or equal to 15 PPM  ...            NaN   \n",
       "125074              Less than 15 PPM  ...            NaN   \n",
       "\n",
       "        semisolid_month_or_day  solid_month vegetables_month_or_day  \\\n",
       "56672                      NaN          NaN                     NaN   \n",
       "98636                      NaN          NaN                     NaN   \n",
       "125074                     NaN          NaN                     NaN   \n",
       "\n",
       "       illness_type  illness_duration treatment_type  bp_sys_main  \\\n",
       "56672           NaN               NaN            NaN        136.5   \n",
       "98636           NaN               NaN            NaN        123.5   \n",
       "125074          NaN               NaN            NaN        141.5   \n",
       "\n",
       "        hypertension  ever_married  \n",
       "56672              0             0  \n",
       "98636              0             0  \n",
       "125074             1             0  \n",
       "\n",
       "[3 rows x 56 columns]"
      ]
     },
     "execution_count": 142,
     "metadata": {},
     "output_type": "execute_result"
    }
   ],
   "source": [
    "# we detect some discrepencies in some observations with regards to weight and height ( errors while data collection )\n",
    "df.loc[[56672, 98636, 125074]]"
   ]
  },
  {
   "cell_type": "code",
   "execution_count": 143,
   "metadata": {},
   "outputs": [],
   "source": [
    "# we remove the observations with the discrepencies\n",
    "df.drop([56672, 98636, 125074], axis=0, inplace=True)"
   ]
  },
  {
   "cell_type": "code",
   "execution_count": 144,
   "metadata": {},
   "outputs": [],
   "source": [
    "# we create a BMI (Body Mass Index) feature from weight and height\n",
    "df[\"bmi\"] = df.apply(lambda x: (x[\"Weight_in_kg\"] / (x[\"Length_height_cm\"] / 100)), axis=1)"
   ]
  },
  {
   "cell_type": "code",
   "execution_count": 145,
   "metadata": {},
   "outputs": [],
   "source": [
    "# we detect some bmi outliers that can affect model performance and remove them\n",
    "df = df[df[\"bmi\"] < 95]"
   ]
  },
  {
   "cell_type": "markdown",
   "metadata": {},
   "source": [
    "##### High Blood Sugar\n",
    "\n",
    "We classify anyone having glucose level of 120 and above as having High Blood Sugar in accordance with our stroke risk classifier model."
   ]
  },
  {
   "cell_type": "code",
   "execution_count": 146,
   "metadata": {},
   "outputs": [],
   "source": [
    "# we create high blood sugar binary classifier in accordance with our stroke classifier model\n",
    "df[\"high_blood_sugar\"] = df[\"fasting_blood_glucose_mg_dl\"].apply(lambda x: 1 if x >= 120 else 0)"
   ]
  },
  {
   "cell_type": "markdown",
   "metadata": {},
   "source": [
    "##### Heart Disease Classification\n",
    "\n",
    "We create a new feature which classifies if the person has higher risk of heart disease with our heart risk classifier model."
   ]
  },
  {
   "cell_type": "code",
   "execution_count": 147,
   "metadata": {},
   "outputs": [],
   "source": [
    "# we prepare a dataset to feed into our Heart Disease Risk Classifier ML Model\n",
    "testdf = df[[\"Age\", \"Sex\", \"high_blood_sugar\", \"hypertension\"]]\n",
    "testdf.columns = [\"Age\",\"Sex\",\"FastingBS\",\"hypertension\"] # renamed the columns for the scaler transformation"
   ]
  },
  {
   "cell_type": "code",
   "execution_count": 148,
   "metadata": {},
   "outputs": [],
   "source": [
    "# we use the scaler from Heart Disease Risk Classifier and scale our dataset\n",
    "tdf_scaled = scaler.transform(testdf)"
   ]
  },
  {
   "cell_type": "code",
   "execution_count": 149,
   "metadata": {},
   "outputs": [],
   "source": [
    "# we predict with the heart risk classifier and merge the prediction to main dataframe\n",
    "pred = heart_model.predict(tdf_scaled)\n",
    "df[\"high_risk_heart_disease\"] = pred"
   ]
  },
  {
   "cell_type": "markdown",
   "metadata": {},
   "source": [
    "##### Stroke Risk Classification\n",
    "\n",
    "We use our stroke risk classifier model for classification. "
   ]
  },
  {
   "cell_type": "code",
   "execution_count": 150,
   "metadata": {},
   "outputs": [],
   "source": [
    "# we prepare our dataset to feed into our Stroke Risk Classifier ML Model\n",
    "df1 = df[[\"Sex\", \"Age\", \"hypertension\", \"ever_married\", \"rural_urban\", \"bmi\", \"high_blood_sugar\", \"high_risk_heart_disease\"]]\n",
    "df1.columns = [\"gender\",\"age\",\"hypertension\",\"ever_married\",\"Residence_type\",\"bmi\",\"high_blood_sugar\",\"high_risk_heart_disease\"] # renamed the columns for the scaler transformation"
   ]
  },
  {
   "cell_type": "code",
   "execution_count": 151,
   "metadata": {},
   "outputs": [],
   "source": [
    "# we use the scaler from Stroke Risk Classifier and scale our dataset\n",
    "df1_scaled = scaler1.transform(df1)"
   ]
  },
  {
   "cell_type": "markdown",
   "metadata": {},
   "source": [
    "We classify everyone with a stroke probability of 60% or more as a high risk of stroke resident and store that information back into dataset for further visual explorations."
   ]
  },
  {
   "cell_type": "code",
   "execution_count": 152,
   "metadata": {},
   "outputs": [
    {
     "name": "stdout",
     "output_type": "stream",
     "text": [
      "Observations of Class 0: 42481\n",
      "Observations of Class 1: 6508\n"
     ]
    }
   ],
   "source": [
    "# we predict with the probability with stroke risk classifier and merge anyone over 60% probability to main dataframe as high risk\n",
    "c = []\n",
    "for i in stroke_model.predict_proba(df1_scaled):\n",
    "    if i[1] >= 0.6:\n",
    "        c.append(1)\n",
    "    else:\n",
    "        c.append(0)\n",
    "df[\"stroke\"] = c\n",
    "vcount = df.stroke.value_counts()\n",
    "print(\"Observations of Class 0:\", vcount[0])\n",
    "print(\"Observations of Class 1:\", vcount[1])"
   ]
  },
  {
   "cell_type": "markdown",
   "metadata": {},
   "source": [
    "#### **Data Exploration & Statistical Testing**"
   ]
  },
  {
   "cell_type": "markdown",
   "metadata": {},
   "source": [
    "##### Rural-Urban Relationship with Stroke Risk Group\n",
    "\n",
    "We plot the rural or urban feature on the basis of higher risk of stroke group on a bar graph and try to visually explore the information."
   ]
  },
  {
   "cell_type": "code",
   "execution_count": 153,
   "metadata": {},
   "outputs": [
    {
     "data": {
      "image/png": "[encoded data removed]",
      "text/plain": [
       "<Figure size 720x576 with 1 Axes>"
      ]
     },
     "metadata": {},
     "output_type": "display_data"
    }
   ],
   "source": [
    "# we plot the rural or urban feature on the basis of stroke group on a bar graph\n",
    "sns.countplot(x=df[\"stroke\"].apply(lambda x: \"Yes\" if x == 1 else \"No\"), hue = df[\"rural_urban\"])\n",
    "plt.legend(title=\"Rural/Urban\", loc=\"upper right\", labels=[\"Rural\", \"Urban\"])\n",
    "plt.xlabel(\"High Risk of Stroke\")\n",
    "plt.ylabel(\"Count\")\n",
    "plt.show()"
   ]
  },
  {
   "cell_type": "markdown",
   "metadata": {},
   "source": [
    "We see that the ratio of observations from rural areas is predominantly higher than urban in our dataset. \n",
    "But it is not easy to understand if being from rural or urban has any impact on having higher risk of stroke. Hence, to test this out we do a hypothesis test:\n",
    "\n",
    "**Null Hypothesis (H0)**: *Being from Rural or Urban has no significant impact on having difference in risk of stroke.*\n",
    "\n",
    "**Alternate Hypothesis (HA)**: *Being from Rural or Urban has a significant impact on having difference in risk of stroke.*"
   ]
  },
  {
   "cell_type": "code",
   "execution_count": 154,
   "metadata": {},
   "outputs": [
    {
     "name": "stdout",
     "output_type": "stream",
     "text": [
      "t-test Result: -6.998\n",
      "p-value: 2.630364143596969e-12\n"
     ]
    }
   ],
   "source": [
    "# we do a t-test to verify if there is any statistical significance\n",
    "from scipy.stats import ttest_ind\n",
    "\n",
    "ttest, pvalue = ttest_ind(df[df[\"rural_urban\"] == 0][\"stroke\"], df[df[\"rural_urban\"] == 1][\"stroke\"])\n",
    "print(\"t-test Result:\", np.round(ttest, 3))\n",
    "print(\"p-value:\", pvalue)"
   ]
  },
  {
   "cell_type": "markdown",
   "metadata": {},
   "source": [
    "Since, p-value < 0.05 (alpha), we reject the Null Hypothesis (H0) and conclude that being from rural or urban has a statistically significant effect on having difference in risk of stroke."
   ]
  },
  {
   "cell_type": "markdown",
   "metadata": {},
   "source": [
    "##### Districts Relationship with Stroke Risk Group\n",
    "\n",
    "To understand if being from different districts has any statistically significant impact on having higher risk of stroke, we perform a hypothesis test.\n",
    "\n",
    "**Null Hypothesis (H0)**: *Being from different districts has no significant impact on having higher risk of stroke.*\n",
    "\n",
    "**Alternate Hypothesis (HA)**: *Being from different districts has significant impact on having higher risk of stroke.*"
   ]
  },
  {
   "cell_type": "code",
   "execution_count": 155,
   "metadata": {},
   "outputs": [
    {
     "data": {
      "image/png": "[encoded data removed]",
      "text/plain": [
       "<Figure size 720x576 with 1 Axes>"
      ]
     },
     "metadata": {},
     "output_type": "display_data"
    },
    {
     "data": {
      "text/html": [
       "<div>\n",
       "<style scoped>\n",
       "    .dataframe tbody tr th:only-of-type {\n",
       "        vertical-align: middle;\n",
       "    }\n",
       "\n",
       "    .dataframe tbody tr th {\n",
       "        vertical-align: top;\n",
       "    }\n",
       "\n",
       "    .dataframe thead th {\n",
       "        text-align: right;\n",
       "    }\n",
       "</style>\n",
       "<table border=\"1\" class=\"dataframe\">\n",
       "  <thead>\n",
       "    <tr style=\"text-align: right;\">\n",
       "      <th></th>\n",
       "      <th>Stat</th>\n",
       "      <th>+/-</th>\n",
       "      <th>Effect Size</th>\n",
       "      <th>p-value</th>\n",
       "    </tr>\n",
       "  </thead>\n",
       "  <tbody>\n",
       "    <tr>\n",
       "      <th>district_code</th>\n",
       "      <td>F</td>\n",
       "      <td></td>\n",
       "      <td>10.602</td>\n",
       "      <td>3.954575e-37</td>\n",
       "    </tr>\n",
       "  </tbody>\n",
       "</table>\n",
       "</div>"
      ],
      "text/plain": [
       "              Stat +/-  Effect Size       p-value\n",
       "district_code    F           10.602  3.954575e-37"
      ]
     },
     "execution_count": 155,
     "metadata": {},
     "output_type": "execute_result"
    }
   ],
   "source": [
    "# we run our bivarstats function to do a One-Way ANOVA test to verify if there is any statistical significance\n",
    "func.bivarstats(df[[\"district_code\", \"stroke\"]], \"stroke\")"
   ]
  },
  {
   "cell_type": "markdown",
   "metadata": {},
   "source": [
    "Since, p-value < 0.05 (alpha), we reject the Null Hypothesis (H0) and conclude that being from different districts has a statistically significant effect on having difference in risk of stroke."
   ]
  },
  {
   "cell_type": "markdown",
   "metadata": {},
   "source": [
    "We also perform a Tukey's HSD (honestly significant difference) test between each pair of districts to find the pairs that have the most statistically significant effect on having higher risk of stroke.\n",
    "\n",
    "Top 10 most significant pairs are as follows: "
   ]
  },
  {
   "cell_type": "code",
   "execution_count": 156,
   "metadata": {},
   "outputs": [
    {
     "data": {
      "text/html": [
       "<div>\n",
       "<style scoped>\n",
       "    .dataframe tbody tr th:only-of-type {\n",
       "        vertical-align: middle;\n",
       "    }\n",
       "\n",
       "    .dataframe tbody tr th {\n",
       "        vertical-align: top;\n",
       "    }\n",
       "\n",
       "    .dataframe thead th {\n",
       "        text-align: right;\n",
       "    }\n",
       "</style>\n",
       "<table border=\"1\" class=\"dataframe\">\n",
       "  <thead>\n",
       "    <tr style=\"text-align: right;\">\n",
       "      <th></th>\n",
       "      <th>group1</th>\n",
       "      <th>group2</th>\n",
       "      <th>meandiff</th>\n",
       "      <th>p-adj</th>\n",
       "      <th>lower</th>\n",
       "      <th>upper</th>\n",
       "      <th>reject</th>\n",
       "    </tr>\n",
       "  </thead>\n",
       "  <tbody>\n",
       "    <tr>\n",
       "      <th>145</th>\n",
       "      <td>GOALPARA</td>\n",
       "      <td>SIBSAGAR</td>\n",
       "      <td>0.0611</td>\n",
       "      <td>0.0</td>\n",
       "      <td>0.0247</td>\n",
       "      <td>0.0974</td>\n",
       "      <td>True</td>\n",
       "    </tr>\n",
       "    <tr>\n",
       "      <th>112</th>\n",
       "      <td>DHUBRI</td>\n",
       "      <td>NALBARI</td>\n",
       "      <td>0.0639</td>\n",
       "      <td>0.0</td>\n",
       "      <td>0.0235</td>\n",
       "      <td>0.1044</td>\n",
       "      <td>True</td>\n",
       "    </tr>\n",
       "    <tr>\n",
       "      <th>193</th>\n",
       "      <td>KAMRUP</td>\n",
       "      <td>NALBARI</td>\n",
       "      <td>0.0600</td>\n",
       "      <td>0.0</td>\n",
       "      <td>0.0242</td>\n",
       "      <td>0.0959</td>\n",
       "      <td>True</td>\n",
       "    </tr>\n",
       "    <tr>\n",
       "      <th>163</th>\n",
       "      <td>HAILAKANDI</td>\n",
       "      <td>KAMRUP</td>\n",
       "      <td>-0.0555</td>\n",
       "      <td>0.0</td>\n",
       "      <td>-0.0914</td>\n",
       "      <td>-0.0196</td>\n",
       "      <td>True</td>\n",
       "    </tr>\n",
       "    <tr>\n",
       "      <th>192</th>\n",
       "      <td>KAMRUP</td>\n",
       "      <td>NAGAON</td>\n",
       "      <td>0.0492</td>\n",
       "      <td>0.0</td>\n",
       "      <td>0.0150</td>\n",
       "      <td>0.0833</td>\n",
       "      <td>True</td>\n",
       "    </tr>\n",
       "    <tr>\n",
       "      <th>213</th>\n",
       "      <td>KARIMGANJ</td>\n",
       "      <td>NORTH CACHAR HILLS</td>\n",
       "      <td>-0.0575</td>\n",
       "      <td>0.0</td>\n",
       "      <td>-0.0938</td>\n",
       "      <td>-0.0211</td>\n",
       "      <td>True</td>\n",
       "    </tr>\n",
       "    <tr>\n",
       "      <th>227</th>\n",
       "      <td>LAKHIMPUR</td>\n",
       "      <td>NALBARI</td>\n",
       "      <td>0.0605</td>\n",
       "      <td>0.0</td>\n",
       "      <td>0.0193</td>\n",
       "      <td>0.1016</td>\n",
       "      <td>True</td>\n",
       "    </tr>\n",
       "    <tr>\n",
       "      <th>175</th>\n",
       "      <td>JORHAT</td>\n",
       "      <td>KAMRUP</td>\n",
       "      <td>-0.0494</td>\n",
       "      <td>0.0</td>\n",
       "      <td>-0.0814</td>\n",
       "      <td>-0.0175</td>\n",
       "      <td>True</td>\n",
       "    </tr>\n",
       "    <tr>\n",
       "      <th>185</th>\n",
       "      <td>JORHAT</td>\n",
       "      <td>SONITPUR</td>\n",
       "      <td>-0.0567</td>\n",
       "      <td>0.0</td>\n",
       "      <td>-0.0939</td>\n",
       "      <td>-0.0194</td>\n",
       "      <td>True</td>\n",
       "    </tr>\n",
       "    <tr>\n",
       "      <th>183</th>\n",
       "      <td>JORHAT</td>\n",
       "      <td>NORTH CACHAR HILLS</td>\n",
       "      <td>-0.0566</td>\n",
       "      <td>0.0</td>\n",
       "      <td>-0.0890</td>\n",
       "      <td>-0.0243</td>\n",
       "      <td>True</td>\n",
       "    </tr>\n",
       "  </tbody>\n",
       "</table>\n",
       "</div>"
      ],
      "text/plain": [
       "         group1              group2  meandiff  p-adj   lower   upper  reject\n",
       "145    GOALPARA            SIBSAGAR    0.0611    0.0  0.0247  0.0974    True\n",
       "112      DHUBRI             NALBARI    0.0639    0.0  0.0235  0.1044    True\n",
       "193      KAMRUP             NALBARI    0.0600    0.0  0.0242  0.0959    True\n",
       "163  HAILAKANDI              KAMRUP   -0.0555    0.0 -0.0914 -0.0196    True\n",
       "192      KAMRUP              NAGAON    0.0492    0.0  0.0150  0.0833    True\n",
       "213   KARIMGANJ  NORTH CACHAR HILLS   -0.0575    0.0 -0.0938 -0.0211    True\n",
       "227   LAKHIMPUR             NALBARI    0.0605    0.0  0.0193  0.1016    True\n",
       "175      JORHAT              KAMRUP   -0.0494    0.0 -0.0814 -0.0175    True\n",
       "185      JORHAT            SONITPUR   -0.0567    0.0 -0.0939 -0.0194    True\n",
       "183      JORHAT  NORTH CACHAR HILLS   -0.0566    0.0 -0.0890 -0.0243    True"
      ]
     },
     "execution_count": 156,
     "metadata": {},
     "output_type": "execute_result"
    }
   ],
   "source": [
    "# we run a tukey hsd test and check top 10 pairs of districts that are most statistically significant\n",
    "import statsmodels.stats.multicomp as multi \n",
    "mc = multi.MultiComparison(df['stroke'], df['district_code'])\n",
    "Results = mc.tukeyhsd()\n",
    "tukeydf = pd.DataFrame(data=Results._results_table.data[1:], columns=Results._results_table.data[0])\n",
    "tukeydf.sort_values(\"p-adj\").head(10)"
   ]
  },
  {
   "cell_type": "markdown",
   "metadata": {},
   "source": [
    "##### Salt Iodine Test Values Relationship with Stroke Risk Group\n",
    "\n",
    "To understand if having different salt iodine test values has any statistically significant impact on having higher risk of stroke, we perform a hypothesis test.\n",
    "\n",
    "**Null Hypothesis (H0)**: *Having different salt iodine test values has no significant impact on having higher risk of stroke.*\n",
    "\n",
    "**Alternate Hypothesis (HA)**: *Having different salt iodine test values has a significant impact on having higher risk of stroke.*"
   ]
  },
  {
   "cell_type": "code",
   "execution_count": 157,
   "metadata": {},
   "outputs": [
    {
     "data": {
      "image/png": "[encoded data removed]",
      "text/plain": [
       "<Figure size 720x576 with 1 Axes>"
      ]
     },
     "metadata": {},
     "output_type": "display_data"
    },
    {
     "data": {
      "text/html": [
       "<div>\n",
       "<style scoped>\n",
       "    .dataframe tbody tr th:only-of-type {\n",
       "        vertical-align: middle;\n",
       "    }\n",
       "\n",
       "    .dataframe tbody tr th {\n",
       "        vertical-align: top;\n",
       "    }\n",
       "\n",
       "    .dataframe thead th {\n",
       "        text-align: right;\n",
       "    }\n",
       "</style>\n",
       "<table border=\"1\" class=\"dataframe\">\n",
       "  <thead>\n",
       "    <tr style=\"text-align: right;\">\n",
       "      <th></th>\n",
       "      <th>Stat</th>\n",
       "      <th>+/-</th>\n",
       "      <th>Effect Size</th>\n",
       "      <th>p-value</th>\n",
       "    </tr>\n",
       "  </thead>\n",
       "  <tbody>\n",
       "    <tr>\n",
       "      <th>test_salt_iodine</th>\n",
       "      <td>F</td>\n",
       "      <td></td>\n",
       "      <td>0.455</td>\n",
       "      <td>0.888063</td>\n",
       "    </tr>\n",
       "  </tbody>\n",
       "</table>\n",
       "</div>"
      ],
      "text/plain": [
       "                 Stat +/-  Effect Size   p-value\n",
       "test_salt_iodine    F            0.455  0.888063"
      ]
     },
     "execution_count": 157,
     "metadata": {},
     "output_type": "execute_result"
    }
   ],
   "source": [
    "# we run our bivarstats function to do a One-Way ANOVA test to verify if there is any statistical significance\n",
    "df[\"test_salt_iodine\"] = df[\"test_salt_iodine\"].astype(\"str\")\n",
    "func.bivarstats(df[[\"test_salt_iodine\", \"stroke\"]], \"stroke\")\n",
    "# we see that there is no statistical sig diff in having different salt iodine values on stroke risk"
   ]
  },
  {
   "cell_type": "markdown",
   "metadata": {},
   "source": [
    "Since, p-value > 0.05 (alpha), we fail to reject the Null Hypothesis (H0) and conclude that having different salt iodine test values has no statistically significant effect on having difference in risk of stroke."
   ]
  },
  {
   "cell_type": "markdown",
   "metadata": {},
   "source": [
    "We also perform a Tukey's HSD (honestly significant difference) test between each pair to verify our finding and we see that indeed there is no statistical significance."
   ]
  },
  {
   "cell_type": "code",
   "execution_count": 158,
   "metadata": {},
   "outputs": [
    {
     "name": "stdout",
     "output_type": "stream",
     "text": [
      "### Tukey HSD Test Performed ### \n",
      "True values= 0 \n",
      "No pairs with statistical significance on Target label was found.\n"
     ]
    }
   ],
   "source": [
    "# we also run a tukey hsd test to verify significance among pairs\n",
    "mc = multi.MultiComparison(df['stroke'], df['test_salt_iodine'])\n",
    "Results = mc.tukeyhsd()\n",
    "tukeydf = pd.DataFrame(data=Results._results_table.data[1:], columns=Results._results_table.data[0])\n",
    "\n",
    "if len(tukeydf[tukeydf[\"reject\"] == True]) == 0:\n",
    "    print(\"### Tukey HSD Test Performed ### \\nTrue values= 0\",\"\\nNo pairs with statistical significance on Target label was found.\")"
   ]
  },
  {
   "cell_type": "markdown",
   "metadata": {},
   "source": [
    "##### Record Code Iodine Values Relationship with Stroke Risk Group\n",
    "\n",
    "To understand if having different record code iodine values has any statistically significant impact on having higher risk of stroke, we perform a hypothesis test.\n",
    "\n",
    "**Null Hypothesis (H0)**: *Having different record code iodine values has no significant impact on having higher risk of stroke.*\n",
    "\n",
    "**Alternate Hypothesis (HA)**: *Having different record code iodine values has a significant impact on having higher risk of stroke.*"
   ]
  },
  {
   "cell_type": "code",
   "execution_count": 159,
   "metadata": {},
   "outputs": [
    {
     "data": {
      "image/png": "[encoded data removed]",
      "text/plain": [
       "<Figure size 720x576 with 1 Axes>"
      ]
     },
     "metadata": {},
     "output_type": "display_data"
    },
    {
     "data": {
      "text/html": [
       "<div>\n",
       "<style scoped>\n",
       "    .dataframe tbody tr th:only-of-type {\n",
       "        vertical-align: middle;\n",
       "    }\n",
       "\n",
       "    .dataframe tbody tr th {\n",
       "        vertical-align: top;\n",
       "    }\n",
       "\n",
       "    .dataframe thead th {\n",
       "        text-align: right;\n",
       "    }\n",
       "</style>\n",
       "<table border=\"1\" class=\"dataframe\">\n",
       "  <thead>\n",
       "    <tr style=\"text-align: right;\">\n",
       "      <th></th>\n",
       "      <th>Stat</th>\n",
       "      <th>+/-</th>\n",
       "      <th>Effect Size</th>\n",
       "      <th>p-value</th>\n",
       "    </tr>\n",
       "  </thead>\n",
       "  <tbody>\n",
       "    <tr>\n",
       "      <th>record_code_iodine</th>\n",
       "      <td>F</td>\n",
       "      <td></td>\n",
       "      <td>0.106</td>\n",
       "      <td>0.899694</td>\n",
       "    </tr>\n",
       "  </tbody>\n",
       "</table>\n",
       "</div>"
      ],
      "text/plain": [
       "                   Stat +/-  Effect Size   p-value\n",
       "record_code_iodine    F            0.106  0.899694"
      ]
     },
     "execution_count": 159,
     "metadata": {},
     "output_type": "execute_result"
    }
   ],
   "source": [
    "# we run our bivarstats function to do a One-Way ANOVA test to verify if there is any statistical significance\n",
    "func.bivarstats(df[[\"record_code_iodine\", \"stroke\"]], \"stroke\")"
   ]
  },
  {
   "cell_type": "markdown",
   "metadata": {},
   "source": [
    "Since, p-value > 0.05 (alpha), we fail to reject the Null Hypothesis (H0) and conclude that having different salt iodine test values has no statistically significant effect on having difference in risk of stroke."
   ]
  },
  {
   "cell_type": "markdown",
   "metadata": {},
   "source": [
    "We also perform a Tukey's HSD (honestly significant difference) test between each pair to verify our finding and we see that indeed there is no statistical significance."
   ]
  },
  {
   "cell_type": "code",
   "execution_count": 160,
   "metadata": {},
   "outputs": [
    {
     "name": "stdout",
     "output_type": "stream",
     "text": [
      "### Tukey HSD Test Performed ### \n",
      "True values= 0 \n",
      "No pairs with statistical significance on Target label was found.\n"
     ]
    }
   ],
   "source": [
    "# we also run a tukey hsd test to verify significance among pairs\n",
    "mc = multi.MultiComparison(df['stroke'], df['record_code_iodine'])\n",
    "Results = mc.tukeyhsd()\n",
    "tukeydf = pd.DataFrame(data=Results._results_table.data[1:], columns=Results._results_table.data[0])\n",
    "if len(tukeydf[tukeydf[\"reject\"] == True]) == 0:\n",
    "    print(\"### Tukey HSD Test Performed ### \\nTrue values= 0\",\"\\nNo pairs with statistical significance on Target label was found.\")"
   ]
  },
  {
   "cell_type": "markdown",
   "metadata": {},
   "source": [
    "##### Sex Feature Relationship with Stroke Risk Group\n",
    "\n",
    "We plot the sex feature on the basis of higher risk of stroke group on a bar graph and try to visually explore the information."
   ]
  },
  {
   "cell_type": "code",
   "execution_count": 161,
   "metadata": {},
   "outputs": [
    {
     "data": {
      "image/png": "[encoded data removed]",
      "text/plain": [
       "<Figure size 720x576 with 1 Axes>"
      ]
     },
     "metadata": {},
     "output_type": "display_data"
    }
   ],
   "source": [
    "# we plot the sex feature on the basis of stroke group on a bar graph\n",
    "sns.countplot(x=df[\"stroke\"].apply(lambda x: \"Yes\" if x == 1 else \"No\"), hue = df[\"Sex\"])\n",
    "plt.legend(title=\"Sex\", loc=\"upper right\", labels=[\"Female\", \"Male\"])\n",
    "plt.xlabel(\"High Risk of Stroke\")\n",
    "plt.ylabel(\"Count\")\n",
    "plt.show()"
   ]
  },
  {
   "cell_type": "markdown",
   "metadata": {},
   "source": [
    "We see that the ratio of observations of male and female are pretty balanced in our dataset. \n",
    "We can also see that males are more likely to be in stroke risk category compared to females. To further verify this, we do a hypothesis test:\n",
    "\n",
    "**Null Hypothesis (H0)**: *Being Male or Female has no significant impact on having difference in risk of stroke.*\n",
    "\n",
    "**Alternate Hypothesis (HA)**: *Being Male or Female has a significant impact on having difference in risk of stroke.*"
   ]
  },
  {
   "cell_type": "code",
   "execution_count": 162,
   "metadata": {},
   "outputs": [
    {
     "name": "stdout",
     "output_type": "stream",
     "text": [
      "t-test Result: -19.878\n",
      "p-value: 1.3997568200884904e-87\n"
     ]
    }
   ],
   "source": [
    "# we do a t-test to verify if there is any statistical significance\n",
    "from scipy.stats import ttest_ind\n",
    "\n",
    "ttest, pvalue = ttest_ind(df[df[\"Sex\"] == 0][\"stroke\"], df[df[\"Sex\"] == 1][\"stroke\"])\n",
    "print(\"t-test Result:\", np.round(ttest, 3))\n",
    "print(\"p-value:\", pvalue)"
   ]
  },
  {
   "cell_type": "markdown",
   "metadata": {},
   "source": [
    "Since, p-value < 0.05 (alpha), we reject the Null Hypothesis (H0) and conclude that being male or female has a statistically significant effect on having a difference in risk of stroke."
   ]
  },
  {
   "cell_type": "markdown",
   "metadata": {},
   "source": [
    "##### Haemoglobin Level Relationship with Stroke Risk Group\n",
    "\n",
    "To understand if having difference in haemoglobin level values has any statistically significant impact on having difference in risk of stroke, we perform a hypothesis test.\n",
    "\n",
    "**Null Hypothesis (H0)**: *Having different haemoglobin levels has no significant impact on having higher risk of stroke.*\n",
    "\n",
    "**Alternate Hypothesis (HA)**: *Having different haemoglobin levels has a significant impact on having higher risk of stroke.*"
   ]
  },
  {
   "cell_type": "code",
   "execution_count": 163,
   "metadata": {},
   "outputs": [
    {
     "name": "stdout",
     "output_type": "stream",
     "text": [
      "F-Stat Effect Size: 1.005 \n",
      "p-value: 0.459\n"
     ]
    }
   ],
   "source": [
    "# we do a One-Way ANOVA test to check for statistical significance between haemoglobin level and diff in risk of stroke\n",
    "fstat, pvalue = func.anova(df[df[\"Haemoglobin_level\"].notnull()], \"Haemoglobin_level\", \"stroke\")\n",
    "print(\"F-Stat Effect Size:\", np.round(fstat, 3), \"\\np-value:\", np.round(pvalue, 3))"
   ]
  },
  {
   "cell_type": "markdown",
   "metadata": {},
   "source": [
    "Since, p-value > 0.05 (alpha), we fail to reject the Null Hypothesis (H0) and conclude that having difference in haemoglobin values has no statistically significant effect on having a difference in risk of stroke."
   ]
  },
  {
   "cell_type": "markdown",
   "metadata": {},
   "source": [
    "##### Diastolic Blood Pressure Relationship with Stroke Risk Group\n",
    "\n",
    "To understand if having difference in Diastolic BP level values has any statistically significant impact on having difference in risk of stroke, we perform a hypothesis test.\n",
    "\n",
    "**Null Hypothesis (H0)**: *Having different diastolic BP levels has no significant impact on having higher risk of stroke.*\n",
    "\n",
    "**Alternate Hypothesis (HA)**: *Having different diastolic BP levels has a significant impact on having higher risk of stroke.*"
   ]
  },
  {
   "cell_type": "code",
   "execution_count": 164,
   "metadata": {},
   "outputs": [
    {
     "name": "stdout",
     "output_type": "stream",
     "text": [
      "F-Stat Effect Size: 15.004 \n",
      "p-value: 7.134994043528881e-275\n"
     ]
    }
   ],
   "source": [
    "# we do a One-Way ANOVA test to check for statistical significance between diastolic BP level and diff in risk of stroke\n",
    "fstat, pvalue = func.anova(df[df[\"BP_Diastolic\"].notnull()], \"BP_Diastolic\", \"stroke\")\n",
    "print(\"F-Stat Effect Size:\", np.round(fstat, 3), \"\\np-value:\", pvalue)"
   ]
  },
  {
   "cell_type": "markdown",
   "metadata": {},
   "source": [
    "Since, p-value < 0.05 (alpha), we reject the Null Hypothesis (H0) and conclude that having a difference in diastolic BP values has a statistically significant effect on having a difference in risk of stroke."
   ]
  },
  {
   "cell_type": "markdown",
   "metadata": {},
   "source": [
    "##### Pulse Rate Relationship with Stroke Risk Group\n",
    "\n",
    "To understand if having difference in Pulse Rate values has any statistically significant impact on having difference in risk of stroke, we perform a hypothesis test.\n",
    "\n",
    "**Null Hypothesis (H0)**: *Having different Pulse Rate values has no significant impact on having higher risk of stroke.*\n",
    "\n",
    "**Alternate Hypothesis (HA)**: *Having different Pulse Rate values has a significant impact on having higher risk of stroke.*"
   ]
  },
  {
   "cell_type": "code",
   "execution_count": 165,
   "metadata": {},
   "outputs": [
    {
     "name": "stdout",
     "output_type": "stream",
     "text": [
      "F-Stat Effect Size: 2.824 \n",
      "p-value: 1.0294717411871078e-18\n"
     ]
    }
   ],
   "source": [
    "# we do a One-Way ANOVA test to check for statistical significance between pulse rate and diff in risk of stroke\n",
    "fstat, pvalue = func.anova(df[df[\"Pulse_rate\"].notnull()], \"Pulse_rate\", \"stroke\")\n",
    "print(\"F-Stat Effect Size:\", np.round(fstat, 3), \"\\np-value:\", pvalue)"
   ]
  },
  {
   "cell_type": "markdown",
   "metadata": {},
   "source": [
    "Since, p-value < 0.05 (alpha), we reject the Null Hypothesis (H0) and conclude that having a difference in Pulse Rate values has a statistically significant effect on having a difference in risk of stroke."
   ]
  },
  {
   "cell_type": "markdown",
   "metadata": {},
   "source": [
    "We also checked the same hypothesis with the 2nd Pulse Reading that was provided in the dataset and came to the same conclusion. The results were:"
   ]
  },
  {
   "cell_type": "code",
   "execution_count": 166,
   "metadata": {},
   "outputs": [
    {
     "name": "stdout",
     "output_type": "stream",
     "text": [
      "F-Stat Effect Size: 2.348 \n",
      "p-value: 1.370320457691074e-12\n"
     ]
    }
   ],
   "source": [
    "# we do a One-Way ANOVA test to check for statistical significance between pulse rate 2nd reading and diff in risk of stroke\n",
    "fstat, pvalue = func.anova(df[df[\"Pulse_rate_2_reading\"].notnull()], \"Pulse_rate_2_reading\", \"stroke\")\n",
    "print(\"F-Stat Effect Size:\", np.round(fstat, 3), \"\\np-value:\", pvalue)"
   ]
  },
  {
   "cell_type": "markdown",
   "metadata": {},
   "source": [
    "#### **Conclusion**\n",
    "\n",
    "We export our Dataset of individuals who are classified to be in higher risk of stroke category to an excel file named “output_data_stroke.xlsx” with the following features:\n",
    "\n",
    "* Unique ID\n",
    "* Sex\n",
    "* District\n"
   ]
  },
  {
   "cell_type": "code",
   "execution_count": 167,
   "metadata": {},
   "outputs": [],
   "source": [
    "# we prepare the final dataset to export with classified people who are at higher risk of stroke\n",
    "df_final = df[df[\"stroke\"] == 1]"
   ]
  },
  {
   "cell_type": "code",
   "execution_count": 168,
   "metadata": {},
   "outputs": [
    {
     "data": {
      "text/html": [
       "<div>\n",
       "<style scoped>\n",
       "    .dataframe tbody tr th:only-of-type {\n",
       "        vertical-align: middle;\n",
       "    }\n",
       "\n",
       "    .dataframe tbody tr th {\n",
       "        vertical-align: top;\n",
       "    }\n",
       "\n",
       "    .dataframe thead th {\n",
       "        text-align: right;\n",
       "    }\n",
       "</style>\n",
       "<table border=\"1\" class=\"dataframe\">\n",
       "  <thead>\n",
       "    <tr style=\"text-align: right;\">\n",
       "      <th></th>\n",
       "      <th>Unique ID</th>\n",
       "      <th>Sex</th>\n",
       "      <th>District</th>\n",
       "    </tr>\n",
       "  </thead>\n",
       "  <tbody>\n",
       "    <tr>\n",
       "      <th>119757</th>\n",
       "      <td>1113336</td>\n",
       "      <td>Male</td>\n",
       "      <td>NALBARI</td>\n",
       "    </tr>\n",
       "    <tr>\n",
       "      <th>109107</th>\n",
       "      <td>1006719</td>\n",
       "      <td>Male</td>\n",
       "      <td>NAGAON</td>\n",
       "    </tr>\n",
       "    <tr>\n",
       "      <th>117075</th>\n",
       "      <td>1112188</td>\n",
       "      <td>Female</td>\n",
       "      <td>NALBARI</td>\n",
       "    </tr>\n",
       "  </tbody>\n",
       "</table>\n",
       "</div>"
      ],
      "text/plain": [
       "        Unique ID     Sex District\n",
       "119757    1113336    Male  NALBARI\n",
       "109107    1006719    Male   NAGAON\n",
       "117075    1112188  Female  NALBARI"
      ]
     },
     "execution_count": 168,
     "metadata": {},
     "output_type": "execute_result"
    }
   ],
   "source": [
    "# we create the dataframe to export and check a sample before exporting\n",
    "exportdf = pd.DataFrame({\"Unique ID\":df_final[\"PSU_ID\"],\"Sex\":df_final[\"Sex\"].apply(lambda x: \"Male\" if x == 1 else \"Female\"), \"District\":df_final[\"district_code\"]})\n",
    "exportdf.sample(3)"
   ]
  },
  {
   "cell_type": "code",
   "execution_count": 171,
   "metadata": {},
   "outputs": [],
   "source": [
    "# we export the data to an excel file in accordance to our project objective\n",
    "exportdf.to_excel(\"output_data_stroke.xlsx\", index=False)"
   ]
  },
  {
   "cell_type": "markdown",
   "metadata": {},
   "source": [
    "We see that our dataset is classified successfully in accordance to our Project objective so we decide to conclude our project here."
   ]
  }
 ],
 "metadata": {
  "interpreter": {
   "hash": "f71396211ee100b254c11fe275d37c09c19d8cf42e926f8bfa8de932852292fe"
  },
  "kernelspec": {
   "display_name": "Python 3.9.7 ('tensorflow-gpu')",
   "language": "python",
   "name": "python3"
  },
  "language_info": {
   "codemirror_mode": {
    "name": "ipython",
    "version": 3
   },
   "file_extension": ".py",
   "mimetype": "text/x-python",
   "name": "python",
   "nbconvert_exporter": "python",
   "pygments_lexer": "ipython3",
   "version": "3.9.7"
  },
  "orig_nbformat": 4
 },
 "nbformat": 4,
 "nbformat_minor": 2
}
